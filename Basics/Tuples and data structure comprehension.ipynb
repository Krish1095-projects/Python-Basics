{
 "cells": [
  {
   "cell_type": "code",
   "execution_count": 1,
   "metadata": {},
   "outputs": [
    {
     "name": "stdout",
     "output_type": "stream",
     "text": [
      "[-10, 12, 13, 14, 15]\n"
     ]
    }
   ],
   "source": [
    "# Lists continuation\n",
    "# sort function\n",
    "# normal sort\n",
    "ls= [12,13,14,15,-10]\n",
    "ls.sort()\n",
    "print(ls)"
   ]
  },
  {
   "cell_type": "code",
   "execution_count": 18,
   "metadata": {},
   "outputs": [
    {
     "name": "stdout",
     "output_type": "stream",
     "text": [
      "[15, 14, 13, 12, -10]\n"
     ]
    }
   ],
   "source": [
    "# descending order\n",
    "ls= [12,13,14,15,-10]\n",
    "ls.sort(reverse=True)\n",
    "#ls1=sorted(ls)\n",
    "print(ls)"
   ]
  },
  {
   "cell_type": "code",
   "execution_count": 19,
   "metadata": {},
   "outputs": [
    {
     "data": {
      "text/plain": [
       "[2, 1, 4, 3]"
      ]
     },
     "execution_count": 19,
     "metadata": {},
     "output_type": "execute_result"
    }
   ],
   "source": [
    "ls=[3,4,1,2]\n",
    "#ls.reverse()\n",
    "ls1=ls[::-1]\n",
    "ls1\n"
   ]
  },
  {
   "cell_type": "code",
   "execution_count": 57,
   "metadata": {},
   "outputs": [
    {
     "name": "stdout",
     "output_type": "stream",
     "text": [
      "original list: [12, 13, 14, 15, -10, 13]\n",
      "sorted list :  [-10, 12, 13, 13, 14, 15]\n"
     ]
    }
   ],
   "source": [
    "# Sorting lis without modifying original object\n",
    "ls= [12,13,14,15,-10,13]\n",
    "ls1= sorted(ls)      # does not change the original list values\n",
    "print('original list:', ls)\n",
    "print('sorted list : ', ls1)"
   ]
  },
  {
   "cell_type": "code",
   "execution_count": 30,
   "metadata": {},
   "outputs": [
    {
     "name": "stdout",
     "output_type": "stream",
     "text": [
      "original list: [12, 13, 14, 15, -10, 13]\n",
      "ascending list :  [-10, 12, 13, 13, 14, 15]\n",
      "descending list : [15, 14, 13, 13, 12, -10]\n"
     ]
    }
   ],
   "source": [
    "#Sorted with with desecending\n",
    "ls= [12,13,14,15,-10,13]\n",
    "ls2= sorted(ls,reverse=True)      # does not change the original list values\n",
    "print('original list:', ls)\n",
    "print('ascending list : ', ls1)\n",
    "print('descending list :',ls2)"
   ]
  },
  {
   "cell_type": "code",
   "execution_count": 31,
   "metadata": {},
   "outputs": [
    {
     "name": "stdout",
     "output_type": "stream",
     "text": [
      "[11, 2, 4, -5, 10]\n"
     ]
    }
   ],
   "source": [
    "# reverse a list\n",
    "ls =[10,-5,4,2,11]\n",
    "ls.reverse()\n",
    "print(ls)"
   ]
  },
  {
   "cell_type": "code",
   "execution_count": 33,
   "metadata": {},
   "outputs": [
    {
     "name": "stdout",
     "output_type": "stream",
     "text": [
      "popped element from the list hi\n",
      "[12, 13, 14, 15, -10]\n"
     ]
    }
   ],
   "source": [
    "# Deleting elements form the list based on index\n",
    "ls= [12,13,14,15,-10,'hi']\n",
    "x =ls.pop()  # last element will popped up from the list\n",
    "print(\"popped element from the list\",x)\n",
    "print(ls)\n"
   ]
  },
  {
   "cell_type": "code",
   "execution_count": 37,
   "metadata": {},
   "outputs": [
    {
     "name": "stdout",
     "output_type": "stream",
     "text": [
      "popped element from the list : 15\n",
      "[12, 13, 14, -10, 'hi']\n"
     ]
    }
   ],
   "source": [
    "# given index element is popped from the list\n",
    "ls= [12,13,14,15,-10,'hi']\n",
    "x =ls.pop(3)  \n",
    "print(\"popped element from the list :\",x)\n",
    "print(ls)\n"
   ]
  },
  {
   "cell_type": "code",
   "execution_count": 39,
   "metadata": {},
   "outputs": [
    {
     "ename": "ValueError",
     "evalue": "list.remove(x): x not in list",
     "output_type": "error",
     "traceback": [
      "\u001b[1;31m---------------------------------------------------------------------------\u001b[0m",
      "\u001b[1;31mValueError\u001b[0m                                Traceback (most recent call last)",
      "\u001b[1;32m<ipython-input-39-053bbc125c8a>\u001b[0m in \u001b[0;36m<module>\u001b[1;34m\u001b[0m\n\u001b[0;32m      4\u001b[0m \u001b[1;33m\u001b[0m\u001b[0m\n\u001b[0;32m      5\u001b[0m \u001b[0mls\u001b[0m\u001b[1;33m=\u001b[0m \u001b[1;33m[\u001b[0m\u001b[1;36m12\u001b[0m\u001b[1;33m,\u001b[0m\u001b[1;36m13\u001b[0m\u001b[1;33m,\u001b[0m\u001b[1;36m14\u001b[0m\u001b[1;33m,\u001b[0m\u001b[1;36m15\u001b[0m\u001b[1;33m,\u001b[0m\u001b[1;33m-\u001b[0m\u001b[1;36m10\u001b[0m\u001b[1;33m,\u001b[0m\u001b[1;34m'hi'\u001b[0m\u001b[1;33m]\u001b[0m\u001b[1;33m\u001b[0m\u001b[1;33m\u001b[0m\u001b[0m\n\u001b[1;32m----> 6\u001b[1;33m \u001b[0mx\u001b[0m \u001b[1;33m=\u001b[0m\u001b[0mls\u001b[0m\u001b[1;33m.\u001b[0m\u001b[0mremove\u001b[0m\u001b[1;33m(\u001b[0m\u001b[1;36m3\u001b[0m\u001b[1;33m)\u001b[0m    \u001b[1;31m# not index , but the value itself from the list\u001b[0m\u001b[1;33m\u001b[0m\u001b[1;33m\u001b[0m\u001b[0m\n\u001b[0m\u001b[0;32m      7\u001b[0m \u001b[0mprint\u001b[0m\u001b[1;33m(\u001b[0m\u001b[1;34m\"popped element from the list :\"\u001b[0m\u001b[1;33m,\u001b[0m\u001b[0mx\u001b[0m\u001b[1;33m)\u001b[0m\u001b[1;33m\u001b[0m\u001b[1;33m\u001b[0m\u001b[0m\n\u001b[0;32m      8\u001b[0m \u001b[0mprint\u001b[0m\u001b[1;33m(\u001b[0m\u001b[0mls\u001b[0m\u001b[1;33m)\u001b[0m\u001b[1;33m\u001b[0m\u001b[1;33m\u001b[0m\u001b[0m\n",
      "\u001b[1;31mValueError\u001b[0m: list.remove(x): x not in list"
     ]
    }
   ],
   "source": [
    "# delete a required element using remove()\n",
    "# ls.remove() performs search and delete opeartions to remove the element from the list\n",
    "# if the element that has to be removed is not present in the list, then remove () will return error\n",
    "\n",
    "ls= [12,13,14,15,-10,'hi']\n",
    "x =ls.remove(3)    # not index , but the value itself from the list\n",
    "print(\"popped element from the list :\",x) # remove() function modifies the ls itself, so storing (x= ls.remove()) the modified list will return none\n",
    "print(ls)"
   ]
  },
  {
   "cell_type": "code",
   "execution_count": 40,
   "metadata": {},
   "outputs": [
    {
     "name": "stdout",
     "output_type": "stream",
     "text": [
      "popped element from the list : None\n",
      "[12, 13, 15, -10, 'hi']\n"
     ]
    }
   ],
   "source": [
    "ls= [12,13,14,15,-10,'hi']\n",
    "ls.remove(14)    # not index , but the value itself from the list\n",
    "print(ls)"
   ]
  },
  {
   "cell_type": "code",
   "execution_count": 43,
   "metadata": {},
   "outputs": [
    {
     "name": "stdout",
     "output_type": "stream",
     "text": [
      "[15, -10, 'hi']\n"
     ]
    }
   ],
   "source": [
    "# del[starting index : ending index] \n",
    "# del[] is not a function, but kind of slicing statement similar to string or list slicing\n",
    "\n",
    "ls= [12,13,14,15,-10,'hi']\n",
    "del ls[1:3]    # in del[1:4]  are the indices which represents position of the elements within the list\n",
    "del ls[0]      # deletes the element present in 0th position (12)\n",
    "print(ls)"
   ]
  },
  {
   "cell_type": "code",
   "execution_count": 42,
   "metadata": {},
   "outputs": [
    {
     "name": "stdout",
     "output_type": "stream",
     "text": [
      "[]\n"
     ]
    }
   ],
   "source": [
    "# clear() function clears the entrie list\n",
    "ls= [12,13,14,15,-10,'hi']\n",
    "ls.clear()    \n",
    "print(ls)"
   ]
  },
  {
   "cell_type": "code",
   "execution_count": 50,
   "metadata": {},
   "outputs": [
    {
     "name": "stdout",
     "output_type": "stream",
     "text": [
      "2\n"
     ]
    }
   ],
   "source": [
    "# counting the no.of occurrences of elements in list\n",
    "ls= [12,13,14,15,-10,'hi',13]\n",
    "x= ls.count(13)  # returns a value known as frequency or count\n",
    "print(x)"
   ]
  },
  {
   "cell_type": "code",
   "execution_count": 58,
   "metadata": {},
   "outputs": [
    {
     "name": "stdout",
     "output_type": "stream",
     "text": [
      "[12, 13, 14, 16, 15, -10, 'hi']\n"
     ]
    }
   ],
   "source": [
    "#inserting single element at a required position\n",
    "ls= [12,13,14,15,-10,'hi']   \n",
    "ls.insert(3,16)\n",
    "print(ls)"
   ]
  },
  {
   "cell_type": "code",
   "execution_count": 54,
   "metadata": {},
   "outputs": [
    {
     "ename": "TypeError",
     "evalue": "'<' not supported between instances of 'str' and 'int'",
     "output_type": "error",
     "traceback": [
      "\u001b[1;31m---------------------------------------------------------------------------\u001b[0m",
      "\u001b[1;31mTypeError\u001b[0m                                 Traceback (most recent call last)",
      "\u001b[1;32m<ipython-input-54-e197d1208c9e>\u001b[0m in \u001b[0;36m<module>\u001b[1;34m\u001b[0m\n\u001b[0;32m      2\u001b[0m \u001b[0mls\u001b[0m\u001b[1;33m=\u001b[0m \u001b[1;33m[\u001b[0m\u001b[1;36m12\u001b[0m\u001b[1;33m,\u001b[0m\u001b[1;36m13\u001b[0m\u001b[1;33m,\u001b[0m\u001b[1;36m14\u001b[0m\u001b[1;33m,\u001b[0m\u001b[1;36m15\u001b[0m\u001b[1;33m,\u001b[0m\u001b[1;33m-\u001b[0m\u001b[1;36m10\u001b[0m\u001b[1;33m,\u001b[0m\u001b[1;34m'hi'\u001b[0m\u001b[1;33m]\u001b[0m\u001b[1;33m\u001b[0m\u001b[1;33m\u001b[0m\u001b[0m\n\u001b[0;32m      3\u001b[0m \u001b[0mls\u001b[0m\u001b[1;33m.\u001b[0m\u001b[0minsert\u001b[0m\u001b[1;33m(\u001b[0m\u001b[1;36m3\u001b[0m\u001b[1;33m,\u001b[0m\u001b[1;36m16\u001b[0m\u001b[1;33m)\u001b[0m\u001b[1;33m\u001b[0m\u001b[1;33m\u001b[0m\u001b[0m\n\u001b[1;32m----> 4\u001b[1;33m \u001b[0mls1\u001b[0m\u001b[1;33m=\u001b[0m\u001b[0msorted\u001b[0m\u001b[1;33m(\u001b[0m\u001b[0mls\u001b[0m\u001b[1;33m)\u001b[0m\u001b[1;33m\u001b[0m\u001b[1;33m\u001b[0m\u001b[0m\n\u001b[0m\u001b[0;32m      5\u001b[0m \u001b[0mprint\u001b[0m\u001b[1;33m(\u001b[0m\u001b[0mls1\u001b[0m\u001b[1;33m)\u001b[0m\u001b[1;33m\u001b[0m\u001b[1;33m\u001b[0m\u001b[0m\n",
      "\u001b[1;31mTypeError\u001b[0m: '<' not supported between instances of 'str' and 'int'"
     ]
    }
   ],
   "source": [
    "#inserting single element at a required position\n",
    "ls= [12,13,14,15,-10,'hi']   \n",
    "ls.insert(3,16)\n",
    "ls1=sorted(ls)           # cannot sort list containing both str ad numbers\n",
    "print(ls1)"
   ]
  },
  {
   "cell_type": "markdown",
   "metadata": {},
   "source": [
    "## Lists and strings"
   ]
  },
  {
   "cell_type": "code",
   "execution_count": 59,
   "metadata": {},
   "outputs": [
    {
     "name": "stdout",
     "output_type": "stream",
     "text": [
      "['h', 'e', 'l', 'l', 'o']\n"
     ]
    }
   ],
   "source": [
    "# Converting a string into list of characters\n",
    "\n",
    "s= 'hello'\n",
    "ls= list(s)\n",
    "print(ls)"
   ]
  },
  {
   "cell_type": "code",
   "execution_count": 65,
   "metadata": {},
   "outputs": [
    {
     "name": "stdout",
     "output_type": "stream",
     "text": [
      "['hello', 'how', 'are', 'you?']\n"
     ]
    }
   ],
   "source": [
    "# Getting lsit of strings starting form a sentence\n",
    "\n",
    "s= 'hello how are you?'\n",
    "ls= s.split(' ')\n",
    "\n",
    "print(ls)"
   ]
  },
  {
   "cell_type": "code",
   "execution_count": 61,
   "metadata": {},
   "outputs": [
    {
     "name": "stdout",
     "output_type": "stream",
     "text": [
      "['30', '07', '2019']\n"
     ]
    }
   ],
   "source": [
    "#Example: splitting a date into dd, mm, yyyy\n",
    "d ='30/07/2019'\n",
    "ls =d.split('/')\n",
    "print(ls)\n"
   ]
  },
  {
   "cell_type": "code",
   "execution_count": 62,
   "metadata": {},
   "outputs": [
    {
     "data": {
      "text/plain": [
       "'hi krishna how are you?'"
      ]
     },
     "execution_count": 62,
     "metadata": {},
     "output_type": "execute_result"
    }
   ],
   "source": [
    "ls =['hi','krishna', 'how', 'are','you?']\n",
    "s =' '\n",
    "s.join(ls)   # joins the list of strings together "
   ]
  },
  {
   "cell_type": "markdown",
   "metadata": {},
   "source": [
    "## Assignments "
   ]
  },
  {
   "cell_type": "code",
   "execution_count": 32,
   "metadata": {},
   "outputs": [
    {
     "name": "stdout",
     "output_type": "stream",
     "text": [
      "enter a phrase :how is the malayalam movie?\n",
      "palindrome words are:  malayalam\n"
     ]
    }
   ],
   "source": [
    "# Assignments continuation\n",
    "# Question 1\n",
    "l = input('enter a phrase :')\n",
    "for word in l.split(' '):\n",
    "    if(word == word[::-1]):\n",
    "        print('palindrome words are: ', word)\n",
    "  "
   ]
  },
  {
   "cell_type": "code",
   "execution_count": 35,
   "metadata": {},
   "outputs": [
    {
     "name": "stdout",
     "output_type": "stream",
     "text": [
      "enter a phrase: uduudu is bird with stupid okko face \n",
      "['uduudu', 'is', 'bird', 'with', 'stupid', 'okko', 'face', '']\n",
      "all palindrome words are: \n",
      "uduudu\n",
      "okko\n",
      "no words\n"
     ]
    }
   ],
   "source": [
    "# Question 1 using list\n",
    "line = input('enter a phrase: ')\n",
    "ls =line.split(' ')\n",
    "print(ls)\n",
    "print('all palindrome words are: ')\n",
    "for word in ls:\n",
    "    if word==word[::-1]:\n",
    "        if len(word)<1:\n",
    "            print('no words')\n",
    "        else:\n",
    "            print(word)"
   ]
  },
  {
   "cell_type": "code",
   "execution_count": 42,
   "metadata": {},
   "outputs": [
    {
     "name": "stdout",
     "output_type": "stream",
     "text": [
      "enter a phrase: dodo is fine\n",
      "['dodo', 'is', 'fine']\n",
      "do\n",
      "is\n",
      "fi\n"
     ]
    }
   ],
   "source": [
    "# Question 2 \n",
    "\n",
    "line = input('enter a phrase: ')\n",
    "ls = line.split(' ')\n",
    "print(ls)\n",
    "for word in ls:\n",
    "    if(len(word)<=2):\n",
    "        print(word)\n",
    "    else: \n",
    "        print(word[0:2]+word[-2:0])"
   ]
  },
  {
   "cell_type": "code",
   "execution_count": 43,
   "metadata": {},
   "outputs": [
    {
     "name": "stdout",
     "output_type": "stream",
     "text": [
      "enter a string:hello world\n",
      "hlowrd\n"
     ]
    }
   ],
   "source": [
    "# Question 4 \n",
    "s = input('enter a string:')\n",
    "s1 =s[0::2]\n",
    "print(s1)\n"
   ]
  },
  {
   "cell_type": "code",
   "execution_count": 45,
   "metadata": {},
   "outputs": [
    {
     "name": "stdout",
     "output_type": "stream",
     "text": [
      "enter a string: hello\n",
      "oellh\n"
     ]
    }
   ],
   "source": [
    "# Question 5\n",
    "s = input('enter a string: ')\n",
    "s1 = s[-1]+s[1:-1]+s[0]\n",
    "print(s1)"
   ]
  },
  {
   "cell_type": "code",
   "execution_count": 47,
   "metadata": {},
   "outputs": [
    {
     "name": "stdout",
     "output_type": "stream",
     "text": [
      "position of @ is: 17\n",
      "space position after @ is 26\n",
      "ieee.org\n"
     ]
    }
   ],
   "source": [
    "# Question 8\n",
    "\n",
    "st =\"From chetanahegde@ieee.org wed feb 21: 09:14:16 2018\"\n",
    "atpos=st.find('@')\n",
    "print('position of @ is:',atpos)\n",
    "spacepos = st.find(' ',atpos)\n",
    "print('space position after @ is', spacepos)\n",
    "domain = st[atpos+1:spacepos]\n",
    "print(domain)"
   ]
  },
  {
   "cell_type": "code",
   "execution_count": 1,
   "metadata": {},
   "outputs": [
    {
     "name": "stdout",
     "output_type": "stream",
     "text": [
      "Enter the mail id :kkrishna@gmail.com wed feb 05 09:08:34 2019\n",
      "position of : is: 8\n",
      "space position after @ is 18\n",
      "gmail.com\n"
     ]
    }
   ],
   "source": [
    "st = str(input('Enter the mail id :'))\n",
    "atpos=st.find('@')\n",
    "print('position of : is:',atpos)\n",
    "spacepos = st.find(' ',atpos)\n",
    "print('space position after @ is', spacepos)\n",
    "domain = st[atpos+1:spacepos]\n",
    "print(domain)\n",
    "\n"
   ]
  },
  {
   "cell_type": "code",
   "execution_count": 2,
   "metadata": {},
   "outputs": [],
   "source": [
    "# Assignment\n",
    "\n",
    "def mystery(m):\n",
    "    for i in range (len(m),1,-2):\n",
    "        m = m[1:]+ m[0]\n",
    "    return(m)\n",
    "\n",
    "mstr= 'siruseri'\n",
    "mstr= mystery(mstr)"
   ]
  },
  {
   "cell_type": "code",
   "execution_count": 6,
   "metadata": {},
   "outputs": [
    {
     "name": "stdout",
     "output_type": "stream",
     "text": [
      "140712272761664\n",
      "140712272761664\n",
      "140712272761984\n",
      "140712272762592\n"
     ]
    }
   ],
   "source": [
    "# same value assigned to two different vairables will have same address (dynamic memory allocation)\n",
    "x = 1\n",
    "y = 1\n",
    "a = 11\n",
    "b = 30\n",
    "print (id(x))\n",
    "print (id(y))\n",
    "print (id(a))\n",
    "print (id(b))"
   ]
  },
  {
   "cell_type": "code",
   "execution_count": 6,
   "metadata": {},
   "outputs": [
    {
     "name": "stdout",
     "output_type": "stream",
     "text": [
      "12 11 13 15 16 14 17\n",
      "enter rotation:3\n",
      "[15, 16, 14, 17, 12, 11, 13]\n"
     ]
    }
   ],
   "source": [
    "# write a python function rotatelist(ls,k) that takes a list ls  and a positive integer k ad reutrns the list ls after k rotations.\n",
    "#if k is not positive, your function should return ls unchanged. Note that your function should not change ls itself and should return the rotateed list.\n",
    "\n",
    "ls = list(int(x) for x in input().split())\n",
    "k = int(input('enter rotation:'))\n",
    "l=len(ls)\n",
    "if (k<=0):\n",
    "    print(ls)\n",
    "else:   \n",
    "    while k >0:\n",
    "        ls=ls[1:l]+[ls[0]]\n",
    "        k=k-1\n",
    "    print(ls)"
   ]
  },
  {
   "cell_type": "code",
   "execution_count": 5,
   "metadata": {},
   "outputs": [
    {
     "name": "stdout",
     "output_type": "stream",
     "text": [
      "enter rotation:2\n"
     ]
    }
   ],
   "source": [
    "ls = [1,2,3,4,5,6]\n",
    "k = int(input('enter rotation:'))\n",
    "def lsrot(ls): \n",
    "    if (k<0):\n",
    "        if(len(ls)<=2):\n",
    "            return(ls)\n",
    "    else:\n",
    "         return(lsrot(ls[1:]) + [ls[0]])\n",
    "         print (lsrot(ls))"
   ]
  },
  {
   "cell_type": "code",
   "execution_count": 49,
   "metadata": {},
   "outputs": [
    {
     "name": "stdout",
     "output_type": "stream",
     "text": [
      "11,1,3,6,2,4\n",
      "['11,1,3,6,2,4']\n",
      "true\n"
     ]
    }
   ],
   "source": [
    "# define a python function ascending (ls) that returns True if each elements in its input list is at least as big as the one before it.\n",
    "# for empty list , it should be True.\n",
    "ls = [i for i in input().split()]\n",
    "s_ls = sorted(ls)\n",
    "if(ls == list() or s_ls>s_ls[:-1]):\n",
    "    print(s_ls)\n",
    "    print('true')\n",
    "else:\n",
    "    print('False') \n"
   ]
  },
  {
   "cell_type": "code",
   "execution_count": 46,
   "metadata": {},
   "outputs": [
    {
     "name": "stdout",
     "output_type": "stream",
     "text": [
      "true\n",
      "true\n",
      "true\n",
      "true\n",
      "true\n"
     ]
    }
   ],
   "source": [
    "ls = [11,1,3,6,2,4]\n",
    "s = sorted(ls)\n",
    "n = []\n",
    "x = len(s)\n",
    "i = 0\n",
    "while i<x-1:\n",
    "    if s[i]<s[i+1]:\n",
    "        print('true')\n",
    "       \n",
    "    else: \n",
    "        n.append('False')\n",
    "    i = i+1\n"
   ]
  },
  {
   "cell_type": "code",
   "execution_count": 47,
   "metadata": {},
   "outputs": [
    {
     "data": {
      "text/plain": [
       "[]"
      ]
     },
     "execution_count": 47,
     "metadata": {},
     "output_type": "execute_result"
    }
   ],
   "source": []
  },
  {
   "cell_type": "code",
   "execution_count": 31,
   "metadata": {},
   "outputs": [
    {
     "data": {
      "text/plain": [
       "7"
      ]
     },
     "execution_count": 31,
     "metadata": {},
     "output_type": "execute_result"
    }
   ],
   "source": []
  },
  {
   "cell_type": "markdown",
   "metadata": {},
   "source": [
    "## Demonstration of simple tuples"
   ]
  },
  {
   "cell_type": "code",
   "execution_count": 21,
   "metadata": {},
   "outputs": [
    {
     "name": "stdout",
     "output_type": "stream",
     "text": [
      "()\n"
     ]
    }
   ],
   "source": [
    " t =()          # simple tuple ()\n",
    "print(t)"
   ]
  },
  {
   "cell_type": "code",
   "execution_count": 22,
   "metadata": {},
   "outputs": [
    {
     "name": "stdout",
     "output_type": "stream",
     "text": [
      "<class 'tuple'>\n"
     ]
    }
   ],
   "source": [
    "t1 = tuple()         # finding class type\n",
    "print(type(tuple()))"
   ]
  },
  {
   "cell_type": "code",
   "execution_count": 32,
   "metadata": {},
   "outputs": [
    {
     "name": "stdout",
     "output_type": "stream",
     "text": [
      "(1, 12, 3, 4)\n"
     ]
    }
   ],
   "source": [
    "# paranthesis is not mandatory\n",
    "t= 1,12,3,4     # we can create tuple by either using this method or using the one with paranthesis\n",
    "print(t)"
   ]
  },
  {
   "cell_type": "code",
   "execution_count": 24,
   "metadata": {},
   "outputs": [
    {
     "name": "stdout",
     "output_type": "stream",
     "text": [
      "(1, 12, 3, 4)\n"
     ]
    }
   ],
   "source": [
    "t = (1, 12,3,4)  # tuples enclosed by paranthesis\n",
    "print(t)\n"
   ]
  },
  {
   "cell_type": "code",
   "execution_count": 25,
   "metadata": {},
   "outputs": [
    {
     "name": "stdout",
     "output_type": "stream",
     "text": [
      "(12, 13, 'hello', 34, -5)\n"
     ]
    }
   ],
   "source": [
    "t= (12,13, 'hello', 34, -5)\n",
    "print(t)"
   ]
  },
  {
   "cell_type": "code",
   "execution_count": 31,
   "metadata": {},
   "outputs": [
    {
     "name": "stdout",
     "output_type": "stream",
     "text": [
      "<class 'tuple'>\n"
     ]
    }
   ],
   "source": [
    "# create tuple with single element\n",
    "t =(2,)\n",
    "print(type(t))"
   ]
  },
  {
   "cell_type": "code",
   "execution_count": 30,
   "metadata": {},
   "outputs": [
    {
     "name": "stdout",
     "output_type": "stream",
     "text": [
      "<class 'int'>\n"
     ]
    }
   ],
   "source": [
    "t =(2) # it will be considered as integer , not a tuple\n",
    "print(type(t))"
   ]
  },
  {
   "cell_type": "code",
   "execution_count": 38,
   "metadata": {},
   "outputs": [
    {
     "name": "stdout",
     "output_type": "stream",
     "text": [
      "('h', 'e', 'l', 'l', 'o')\n"
     ]
    }
   ],
   "source": [
    "# create=ing tuple using string\n",
    "s= 'hello'\n",
    "t= tuple(s)\n",
    "print(t)"
   ]
  },
  {
   "cell_type": "code",
   "execution_count": 39,
   "metadata": {},
   "outputs": [
    {
     "name": "stdout",
     "output_type": "stream",
     "text": [
      "(1, 2, 3, 4, [5, 6], 'hi')\n"
     ]
    }
   ],
   "source": [
    "# creating a tuple using a list\n",
    "ls = [1,2,3,4,[5,6],'hi']\n",
    "t = tuple(ls)\n",
    "print (t)"
   ]
  },
  {
   "cell_type": "code",
   "execution_count": 40,
   "metadata": {},
   "outputs": [
    {
     "name": "stdout",
     "output_type": "stream",
     "text": [
      "t1 is (1, 2, 3, 4)\n",
      "id is 2957909974216\n",
      "t2 is (1, 2, 3, 4)\n",
      "id of t2 is 2957909974216\n"
     ]
    }
   ],
   "source": [
    "# creating a tuple from another tuple\n",
    "t1 = 1,2,3,4\n",
    "print('t1 is', t1)\n",
    "print('id is', id(t1))\n",
    "t2 = tuple(t1)\n",
    "print ('t2 is', t2)\n",
    "print ('id of t2 is', id(t2))  # creates just a reference to existing object"
   ]
  },
  {
   "cell_type": "code",
   "execution_count": 1,
   "metadata": {},
   "outputs": [
    {
     "name": "stdout",
     "output_type": "stream",
     "text": [
      "banana\n"
     ]
    }
   ],
   "source": [
    "# Indexing and slicing on tuples\n",
    "t= 'mango','banana', 'apple'\n",
    "print(t[1])"
   ]
  },
  {
   "cell_type": "code",
   "execution_count": 2,
   "metadata": {},
   "outputs": [
    {
     "name": "stdout",
     "output_type": "stream",
     "text": [
      "('banana', 'apple')\n"
     ]
    }
   ],
   "source": [
    "print(t[1:])"
   ]
  },
  {
   "cell_type": "code",
   "execution_count": 3,
   "metadata": {},
   "outputs": [
    {
     "name": "stdout",
     "output_type": "stream",
     "text": [
      "('mango', 'banana')\n"
     ]
    }
   ],
   "source": [
    "print(t[:-1])\n"
   ]
  },
  {
   "cell_type": "code",
   "execution_count": 4,
   "metadata": {},
   "outputs": [
    {
     "ename": "TypeError",
     "evalue": "'tuple' object does not support item assignment",
     "output_type": "error",
     "traceback": [
      "\u001b[1;31m---------------------------------------------------------------------------\u001b[0m",
      "\u001b[1;31mTypeError\u001b[0m                                 Traceback (most recent call last)",
      "\u001b[1;32m<ipython-input-4-dd8637268131>\u001b[0m in \u001b[0;36m<module>\u001b[1;34m\u001b[0m\n\u001b[0;32m      3\u001b[0m \u001b[1;33m\u001b[0m\u001b[0m\n\u001b[0;32m      4\u001b[0m \u001b[0mt\u001b[0m\u001b[1;33m=\u001b[0m \u001b[1;34m'mango'\u001b[0m\u001b[1;33m,\u001b[0m\u001b[1;34m'banana'\u001b[0m\u001b[1;33m,\u001b[0m \u001b[1;34m'apple'\u001b[0m\u001b[1;33m\u001b[0m\u001b[1;33m\u001b[0m\u001b[0m\n\u001b[1;32m----> 5\u001b[1;33m \u001b[0mt\u001b[0m\u001b[1;33m[\u001b[0m\u001b[1;36m0\u001b[0m\u001b[1;33m]\u001b[0m \u001b[1;33m=\u001b[0m \u001b[1;34m'pappaya'\u001b[0m\u001b[1;33m\u001b[0m\u001b[1;33m\u001b[0m\u001b[0m\n\u001b[0m\u001b[0;32m      6\u001b[0m \u001b[0mprint\u001b[0m\u001b[1;33m(\u001b[0m\u001b[0mt\u001b[0m\u001b[1;33m)\u001b[0m\u001b[1;33m\u001b[0m\u001b[1;33m\u001b[0m\u001b[0m\n",
      "\u001b[1;31mTypeError\u001b[0m: 'tuple' object does not support item assignment"
     ]
    }
   ],
   "source": [
    "# As tuples are immutable , one alter its contents\n",
    "# instead, we can slice and create new tuple\n",
    "\n",
    "t= 'mango','banana', 'apple'\n",
    "t[0] = 'pappaya'    # Error! item assignment is not allowed\n",
    "print(t)"
   ]
  },
  {
   "cell_type": "markdown",
   "metadata": {},
   "source": [
    "## Assignment of tuples"
   ]
  },
  {
   "cell_type": "code",
   "execution_count": 10,
   "metadata": {},
   "outputs": [
    {
     "name": "stdout",
     "output_type": "stream",
     "text": [
      "10\n",
      "20\n"
     ]
    }
   ],
   "source": [
    "x,y =10,20 \n",
    "print(x)\n",
    "print(y)"
   ]
  },
  {
   "cell_type": "code",
   "execution_count": 12,
   "metadata": {},
   "outputs": [
    {
     "name": "stdout",
     "output_type": "stream",
     "text": [
      "3\n",
      "4\n"
     ]
    }
   ],
   "source": [
    "# assingn list to tuples\n",
    "\n",
    "ls=[3,4]\n",
    "x,y =ls\n",
    "print(x)\n",
    "print(y)\n"
   ]
  },
  {
   "cell_type": "code",
   "execution_count": 14,
   "metadata": {},
   "outputs": [
    {
     "name": "stdout",
     "output_type": "stream",
     "text": [
      "20 10\n",
      "hello hi\n"
     ]
    }
   ],
   "source": [
    "# Swapping of two numbers\n",
    "a= 10\n",
    "b= 20\n",
    "a,b = b,a\n",
    "print(a,b)\n",
    "\n",
    "c= 'hi'\n",
    "d ='hello'\n",
    "c,d =d,c\n",
    "print(c,d)"
   ]
  },
  {
   "cell_type": "code",
   "execution_count": 15,
   "metadata": {},
   "outputs": [
    {
     "ename": "ValueError",
     "evalue": "too many values to unpack (expected 2)",
     "output_type": "error",
     "traceback": [
      "\u001b[1;31m---------------------------------------------------------------------------\u001b[0m",
      "\u001b[1;31mValueError\u001b[0m                                Traceback (most recent call last)",
      "\u001b[1;32m<ipython-input-15-6bd9a7900c94>\u001b[0m in \u001b[0;36m<module>\u001b[1;34m\u001b[0m\n\u001b[0;32m      1\u001b[0m \u001b[1;31m# Excess value assignment\u001b[0m\u001b[1;33m\u001b[0m\u001b[1;33m\u001b[0m\u001b[1;33m\u001b[0m\u001b[0m\n\u001b[1;32m----> 2\u001b[1;33m \u001b[0mx\u001b[0m\u001b[1;33m,\u001b[0m\u001b[0my\u001b[0m \u001b[1;33m=\u001b[0m \u001b[1;36m10\u001b[0m\u001b[1;33m,\u001b[0m\u001b[1;36m20\u001b[0m \u001b[1;33m,\u001b[0m\u001b[1;36m30\u001b[0m\u001b[1;33m\u001b[0m\u001b[1;33m\u001b[0m\u001b[0m\n\u001b[0m",
      "\u001b[1;31mValueError\u001b[0m: too many values to unpack (expected 2)"
     ]
    }
   ],
   "source": [
    "# Excess value assignment\n",
    "x,y = 10,20 ,30   # error"
   ]
  },
  {
   "cell_type": "code",
   "execution_count": 16,
   "metadata": {},
   "outputs": [
    {
     "ename": "ValueError",
     "evalue": "not enough values to unpack (expected 3, got 2)",
     "output_type": "error",
     "traceback": [
      "\u001b[1;31m---------------------------------------------------------------------------\u001b[0m",
      "\u001b[1;31mValueError\u001b[0m                                Traceback (most recent call last)",
      "\u001b[1;32m<ipython-input-16-b418baef26bd>\u001b[0m in \u001b[0;36m<module>\u001b[1;34m\u001b[0m\n\u001b[0;32m      1\u001b[0m \u001b[1;31m# less number of values\u001b[0m\u001b[1;33m\u001b[0m\u001b[1;33m\u001b[0m\u001b[1;33m\u001b[0m\u001b[0m\n\u001b[1;32m----> 2\u001b[1;33m \u001b[0mx\u001b[0m\u001b[1;33m,\u001b[0m\u001b[0my\u001b[0m\u001b[1;33m,\u001b[0m\u001b[0mz\u001b[0m \u001b[1;33m=\u001b[0m \u001b[1;36m10\u001b[0m\u001b[1;33m,\u001b[0m\u001b[1;36m20\u001b[0m\u001b[1;33m\u001b[0m\u001b[1;33m\u001b[0m\u001b[0m\n\u001b[0m",
      "\u001b[1;31mValueError\u001b[0m: not enough values to unpack (expected 3, got 2)"
     ]
    }
   ],
   "source": [
    "# less number of values\n",
    "x,y,z = 10,20     # error"
   ]
  },
  {
   "cell_type": "code",
   "execution_count": 10,
   "metadata": {},
   "outputs": [
    {
     "name": "stdout",
     "output_type": "stream",
     "text": [
      "krishna\n",
      "gmail.com\n"
     ]
    }
   ],
   "source": [
    "# Extract user name and domain name form email ID\n",
    "\n",
    "email='krishna@gmail.com'\n",
    "username,domainname=email.split('@')\n",
    "print(username)\n",
    "print(domainname)\n",
    "\n"
   ]
  },
  {
   "cell_type": "code",
   "execution_count": 11,
   "metadata": {},
   "outputs": [
    {
     "name": "stdout",
     "output_type": "stream",
     "text": [
      "krishna\n",
      "gmail.com\n"
     ]
    }
   ],
   "source": [
    "email='krishna@gmail.com'\n",
    "a = email.find('@')\n",
    "print(email[0:a])\n",
    "print(email[a+1:])"
   ]
  },
  {
   "cell_type": "code",
   "execution_count": 18,
   "metadata": {},
   "outputs": [
    {
     "name": "stdout",
     "output_type": "stream",
     "text": [
      "enter input: kk@gmail.com\n",
      "kk\n",
      "gmail.com\n"
     ]
    }
   ],
   "source": [
    "email = str(input('enter input: '))\n",
    "ls = email.split('@')\n",
    "print(ls[0],ls[1], sep='\\n')\n"
   ]
  },
  {
   "cell_type": "markdown",
   "metadata": {},
   "source": [
    "## List Comprehension"
   ]
  },
  {
   "cell_type": "code",
   "execution_count": 24,
   "metadata": {},
   "outputs": [
    {
     "name": "stdout",
     "output_type": "stream",
     "text": [
      "[0, 1, 2, 3, 4, 5, 6, 7, 8, 9, 10, 11, 12, 13, 14, 15, 16, 17, 18, 19]\n"
     ]
    }
   ],
   "source": [
    "ls = [i for i in range (20)]\n",
    "print(ls)"
   ]
  },
  {
   "cell_type": "code",
   "execution_count": 53,
   "metadata": {},
   "outputs": [
    {
     "name": "stdout",
     "output_type": "stream",
     "text": [
      "[0, 2, 4, 6, 8, 10, 12, 14, 16, 18]\n",
      "[1, 3, 5, 7, 9, 11, 13, 15, 17, 19]\n"
     ]
    }
   ],
   "source": [
    "ls = [i for i in range (20) if i%2==1] # adding odd numbers to the list\n",
    "ls1 =[i for i in range (20) if i%2==0] # adding even numbers to the list\n",
    "print(ls1)\n",
    "print(ls)"
   ]
  },
  {
   "cell_type": "code",
   "execution_count": 66,
   "metadata": {},
   "outputs": [
    {
     "name": "stdout",
     "output_type": "stream",
     "text": [
      "[0, 1, 2, 3, 4, 5, 6, 7, 8, 9, 10, 11, 12, 13, 14, 15, 16, 17, 18, 19]\n",
      "['even', 'odd', 'even', 'odd', 'even', 'odd', 'even', 'odd', 'even', 'odd', 'even', 'odd', 'even', 'odd', 'even', 'odd', 'even', 'odd', 'even', 'odd']\n"
     ]
    }
   ],
   "source": [
    "ls = [i for i in range(20)]\n",
    "print(ls)\n",
    "ls1 = ['even' if i%2==0 else 'odd'for i in range(20)]\n",
    "print(ls1)"
   ]
  },
  {
   "cell_type": "code",
   "execution_count": 27,
   "metadata": {},
   "outputs": [
    {
     "name": "stdout",
     "output_type": "stream",
     "text": [
      "[0, 1, 2, 3, 4, 5, 6, 7, 8, 9]\n"
     ]
    }
   ],
   "source": [
    "# more elaborative way to add elements to list\n",
    "\n",
    "ls=[]\n",
    "for i in range (10):\n",
    "    ls.append(i)\n",
    "print(ls)"
   ]
  },
  {
   "cell_type": "code",
   "execution_count": 35,
   "metadata": {},
   "outputs": [
    {
     "name": "stdout",
     "output_type": "stream",
     "text": [
      "[0, 2, 4, 6, 8]\n"
     ]
    }
   ],
   "source": [
    "ls=[]\n",
    "for i in range (0,10,2):\n",
    "    ls.append(i)\n",
    "print(ls)"
   ]
  },
  {
   "cell_type": "code",
   "execution_count": 37,
   "metadata": {},
   "outputs": [
    {
     "name": "stdout",
     "output_type": "stream",
     "text": [
      "[(1, 1, 2), (1, 1, 3), (1, 2, 3)]\n"
     ]
    }
   ],
   "source": [
    "# What is the value of triples after the folowing assignment?\n",
    "\n",
    "triples = [( x,y,z) for x in range (1,4) for y in range(x,4) for z in range(y,4) if x+y <=z]\n",
    "print (triples)"
   ]
  },
  {
   "cell_type": "code",
   "execution_count": 38,
   "metadata": {},
   "outputs": [
    {
     "name": "stdout",
     "output_type": "stream",
     "text": [
      "[(1, 1, 2), (1, 1, 3), (1, 2, 3)]\n"
     ]
    }
   ],
   "source": [
    "triples=[]\n",
    "for x in range (1,4):\n",
    "    for y in range(x,4):\n",
    "        for z in range(y,4):\n",
    "            if x+y <=z:\n",
    "                triples.append((x,y,z))\n",
    "print(triples)\n",
    "    "
   ]
  },
  {
   "cell_type": "code",
   "execution_count": null,
   "metadata": {},
   "outputs": [],
   "source": [
    "# pop() will remove last element from the lsit. even the element is inner list."
   ]
  }
 ],
 "metadata": {
  "kernelspec": {
   "display_name": "Python 3",
   "language": "python",
   "name": "python3"
  },
  "language_info": {
   "codemirror_mode": {
    "name": "ipython",
    "version": 3
   },
   "file_extension": ".py",
   "mimetype": "text/x-python",
   "name": "python",
   "nbconvert_exporter": "python",
   "pygments_lexer": "ipython3",
   "version": "3.8.3"
  }
 },
 "nbformat": 4,
 "nbformat_minor": 4
}
