{
 "cells": [
  {
   "cell_type": "code",
   "execution_count": 1,
   "metadata": {},
   "outputs": [
    {
     "name": "stdout",
     "output_type": "stream",
     "text": [
      "4\n"
     ]
    }
   ],
   "source": [
    "# find() function displays index position from give set of characters\n",
    "st = 'hello world'\n",
    "print(st.find('o'))"
   ]
  },
  {
   "cell_type": "code",
   "execution_count": 1,
   "metadata": {},
   "outputs": [
    {
     "name": "stdout",
     "output_type": "stream",
     "text": [
      "10\n",
      "None\n"
     ]
    },
    {
     "data": {
      "text/plain": [
       "-1"
      ]
     },
     "execution_count": 1,
     "metadata": {},
     "output_type": "execute_result"
    }
   ],
   "source": [
    "# find('ar') function can also find strings too. \n",
    "# but here the find ('ar') function find the very first occurence of first chacarter 'a' \n",
    "# and then check wether 'a' is followed by 'r' \n",
    "# otherwise it returns -1 \n",
    "# even if find('x') element is not present in the given input then find() returns -1\n",
    "\n",
    "st= 'hello how are you?'\n",
    "i= print(st.find('ar'))\n",
    "print(i)\n",
    "\n",
    "st.find('i')"
   ]
  },
  {
   "cell_type": "code",
   "execution_count": 9,
   "metadata": {},
   "outputs": [
    {
     "name": "stdout",
     "output_type": "stream",
     "text": [
      "17\n",
      "-1\n",
      "24\n"
     ]
    }
   ],
   "source": [
    "#using find() only within the range of indices\n",
    "st='calender of feb. cal of march'\n",
    "i= st.find('cal', 10, 20)\n",
    "print(i)\n",
    "\n",
    "i= st.find('cal', 10 ,15)  # since 'cal' does not fall under the given range , find() returns -1\n",
    "print(i)\n",
    "\n",
    "i= st.find('mar', 10, 30)\n",
    "print(i)"
   ]
  },
  {
   "cell_type": "code",
   "execution_count": 10,
   "metadata": {},
   "outputs": [
    {
     "name": "stdout",
     "output_type": "stream",
     "text": [
      "    krishna kumar\n",
      "krishna kumar\n"
     ]
    }
   ],
   "source": [
    "# Strip() function--> removes extra characters or blank spaces only in front and back from the given string\n",
    "\n",
    "st= \"    krishna kumar\"\n",
    "print(st)       # original string , not changed\n",
    "st1= st.strip() # by default, strip() removes additional blank spaces in front and back \n",
    "print(st1)      # changed string\n"
   ]
  },
  {
   "cell_type": "code",
   "execution_count": 15,
   "metadata": {},
   "outputs": [
    {
     "name": "stdout",
     "output_type": "stream",
     "text": [
      "krishna kumar\n"
     ]
    }
   ],
   "source": [
    "# Strip() function also removes mentioned characters and special characters in similar fashion\n",
    "st =\"@@@###krishna kumar@@@###\"\n",
    "st2 = st.strip(\"@#\")            #give the required character that has to removed\n",
    "print(st2)"
   ]
  },
  {
   "cell_type": "code",
   "execution_count": 16,
   "metadata": {},
   "outputs": [
    {
     "name": "stdout",
     "output_type": "stream",
     "text": [
      "hello how are you ?\n"
     ]
    }
   ],
   "source": [
    "st =\"@@@hello how are you ?###\"\n",
    "st2 = st.strip(\" @#\")\n",
    "print(st2)"
   ]
  },
  {
   "cell_type": "code",
   "execution_count": 17,
   "metadata": {},
   "outputs": [
    {
     "name": "stdout",
     "output_type": "stream",
     "text": [
      "kris###hna kumar\n"
     ]
    }
   ],
   "source": [
    "st =\" @@@###kris###hna kumar@@@###\"\n",
    "st2 = st.strip(\" @#\")\n",
    "print(st2)"
   ]
  },
  {
   "cell_type": "code",
   "execution_count": 18,
   "metadata": {},
   "outputs": [
    {
     "data": {
      "text/plain": [
       "False"
      ]
     },
     "execution_count": 18,
     "metadata": {},
     "output_type": "execute_result"
    }
   ],
   "source": [
    "# Startswith() function \n",
    "# s.startswith(prefix[, start [,end]])\n",
    "# Return true if s starts with the speicified prefix\n",
    "# else returns flase.\n",
    "# with optimal start test s begining at that position.\n",
    "# with optimal end , stop comparing s at that position\n",
    "\n",
    "st='hello world'\n",
    "st.startswith('e')"
   ]
  },
  {
   "cell_type": "code",
   "execution_count": 20,
   "metadata": {},
   "outputs": [
    {
     "data": {
      "text/plain": [
       "True"
      ]
     },
     "execution_count": 20,
     "metadata": {},
     "output_type": "execute_result"
    }
   ],
   "source": [
    "st= 'hello world krishna'\n",
    "st.startswith('krishna',12)"
   ]
  },
  {
   "cell_type": "code",
   "execution_count": 24,
   "metadata": {},
   "outputs": [
    {
     "data": {
      "text/plain": [
       "True"
      ]
     },
     "execution_count": 24,
     "metadata": {},
     "output_type": "execute_result"
    }
   ],
   "source": [
    "st= 'hello world krishna'\n",
    "st.startswith('krishna',12,19)"
   ]
  },
  {
   "cell_type": "code",
   "execution_count": 25,
   "metadata": {},
   "outputs": [
    {
     "data": {
      "text/plain": [
       "False"
      ]
     },
     "execution_count": 25,
     "metadata": {},
     "output_type": "execute_result"
    }
   ],
   "source": [
    "st='Hello'\n",
    "st.startswith('he') # because h and H have different ASCII values"
   ]
  },
  {
   "cell_type": "code",
   "execution_count": 26,
   "metadata": {},
   "outputs": [
    {
     "data": {
      "text/plain": [
       "True"
      ]
     },
     "execution_count": 26,
     "metadata": {},
     "output_type": "execute_result"
    }
   ],
   "source": [
    "# multiple functions can be embedded together as shown here.\n",
    "# but both functions must return string values.\n",
    "st='Hello'\n",
    "st.lower().startswith('he') # alternate method "
   ]
  },
  {
   "cell_type": "code",
   "execution_count": 2,
   "metadata": {},
   "outputs": [
    {
     "ename": "AttributeError",
     "evalue": "'int' object has no attribute 'startswith'",
     "output_type": "error",
     "traceback": [
      "\u001b[1;31m---------------------------------------------------------------------------\u001b[0m",
      "\u001b[1;31mAttributeError\u001b[0m                            Traceback (most recent call last)",
      "\u001b[1;32m<ipython-input-2-9ce948e09952>\u001b[0m in \u001b[0;36m<module>\u001b[1;34m\u001b[0m\n\u001b[0;32m      1\u001b[0m \u001b[0mst\u001b[0m\u001b[1;33m=\u001b[0m\u001b[1;34m'Hello'\u001b[0m\u001b[1;33m\u001b[0m\u001b[1;33m\u001b[0m\u001b[0m\n\u001b[1;32m----> 2\u001b[1;33m \u001b[0mst\u001b[0m\u001b[1;33m.\u001b[0m\u001b[0mfind\u001b[0m\u001b[1;33m(\u001b[0m\u001b[1;34m'H'\u001b[0m\u001b[1;33m)\u001b[0m\u001b[1;33m.\u001b[0m\u001b[0mstartswith\u001b[0m\u001b[1;33m(\u001b[0m\u001b[1;34m'he'\u001b[0m\u001b[1;33m)\u001b[0m \u001b[1;31m# since find() function returns number value and startswith returns string values.\u001b[0m\u001b[1;33m\u001b[0m\u001b[1;33m\u001b[0m\u001b[0m\n\u001b[0m\u001b[0;32m      3\u001b[0m                             \u001b[1;31m# so embedding these two functions will results in error as shown.\u001b[0m\u001b[1;33m\u001b[0m\u001b[1;33m\u001b[0m\u001b[1;33m\u001b[0m\u001b[0m\n",
      "\u001b[1;31mAttributeError\u001b[0m: 'int' object has no attribute 'startswith'"
     ]
    }
   ],
   "source": [
    "st='Hello'\n",
    "st.find('H').startswith('he') # since find() function returns number value and startswith returns string values. \n",
    "                            # so embedding these two functions will results in error as shown."
   ]
  },
  {
   "cell_type": "code",
   "execution_count": 33,
   "metadata": {},
   "outputs": [
    {
     "name": "stdout",
     "output_type": "stream",
     "text": [
      "2\n"
     ]
    }
   ],
   "source": [
    "# Count() function --> to find the frequency (no.of times given substring is there inside the st) of a substring inside a string\n",
    "st ='hello how are you? how about you?'\n",
    "st1= st.count('you') # substring must be given\n",
    "print(st1)"
   ]
  },
  {
   "cell_type": "code",
   "execution_count": 48,
   "metadata": {},
   "outputs": [],
   "source": [
    "text ='to find the frequency no.of times given substring is there inside the st of a substring inside a string'\n",
    "def count_string(text):\n",
    "    bow = text.split(' ')\n",
    "    pp = {}\n",
    "    for i in bow:\n",
    "        pp[i] = pp.get(i,0)+1\n",
    "    return pp"
   ]
  },
  {
   "cell_type": "code",
   "execution_count": 51,
   "metadata": {},
   "outputs": [
    {
     "data": {
      "text/html": [
       "<div>\n",
       "<style scoped>\n",
       "    .dataframe tbody tr th:only-of-type {\n",
       "        vertical-align: middle;\n",
       "    }\n",
       "\n",
       "    .dataframe tbody tr th {\n",
       "        vertical-align: top;\n",
       "    }\n",
       "\n",
       "    .dataframe thead th {\n",
       "        text-align: right;\n",
       "    }\n",
       "</style>\n",
       "<table border=\"1\" class=\"dataframe\">\n",
       "  <thead>\n",
       "    <tr style=\"text-align: right;\">\n",
       "      <th></th>\n",
       "      <th>text</th>\n",
       "      <th>count</th>\n",
       "    </tr>\n",
       "  </thead>\n",
       "  <tbody>\n",
       "    <tr>\n",
       "      <th>0</th>\n",
       "      <td>to</td>\n",
       "      <td>1</td>\n",
       "    </tr>\n",
       "    <tr>\n",
       "      <th>1</th>\n",
       "      <td>find</td>\n",
       "      <td>1</td>\n",
       "    </tr>\n",
       "    <tr>\n",
       "      <th>2</th>\n",
       "      <td>the</td>\n",
       "      <td>2</td>\n",
       "    </tr>\n",
       "    <tr>\n",
       "      <th>3</th>\n",
       "      <td>frequency</td>\n",
       "      <td>1</td>\n",
       "    </tr>\n",
       "    <tr>\n",
       "      <th>4</th>\n",
       "      <td>no.of</td>\n",
       "      <td>1</td>\n",
       "    </tr>\n",
       "    <tr>\n",
       "      <th>5</th>\n",
       "      <td>times</td>\n",
       "      <td>1</td>\n",
       "    </tr>\n",
       "    <tr>\n",
       "      <th>6</th>\n",
       "      <td>given</td>\n",
       "      <td>1</td>\n",
       "    </tr>\n",
       "    <tr>\n",
       "      <th>7</th>\n",
       "      <td>substring</td>\n",
       "      <td>2</td>\n",
       "    </tr>\n",
       "    <tr>\n",
       "      <th>8</th>\n",
       "      <td>is</td>\n",
       "      <td>1</td>\n",
       "    </tr>\n",
       "    <tr>\n",
       "      <th>9</th>\n",
       "      <td>there</td>\n",
       "      <td>1</td>\n",
       "    </tr>\n",
       "    <tr>\n",
       "      <th>10</th>\n",
       "      <td>inside</td>\n",
       "      <td>2</td>\n",
       "    </tr>\n",
       "    <tr>\n",
       "      <th>11</th>\n",
       "      <td>the</td>\n",
       "      <td>2</td>\n",
       "    </tr>\n",
       "    <tr>\n",
       "      <th>12</th>\n",
       "      <td>st</td>\n",
       "      <td>1</td>\n",
       "    </tr>\n",
       "    <tr>\n",
       "      <th>13</th>\n",
       "      <td>of</td>\n",
       "      <td>1</td>\n",
       "    </tr>\n",
       "    <tr>\n",
       "      <th>14</th>\n",
       "      <td>a</td>\n",
       "      <td>2</td>\n",
       "    </tr>\n",
       "    <tr>\n",
       "      <th>15</th>\n",
       "      <td>substring</td>\n",
       "      <td>2</td>\n",
       "    </tr>\n",
       "    <tr>\n",
       "      <th>16</th>\n",
       "      <td>inside</td>\n",
       "      <td>2</td>\n",
       "    </tr>\n",
       "    <tr>\n",
       "      <th>17</th>\n",
       "      <td>a</td>\n",
       "      <td>2</td>\n",
       "    </tr>\n",
       "    <tr>\n",
       "      <th>18</th>\n",
       "      <td>string</td>\n",
       "      <td>1</td>\n",
       "    </tr>\n",
       "  </tbody>\n",
       "</table>\n",
       "</div>"
      ],
      "text/plain": [
       "         text  count\n",
       "0          to      1\n",
       "1        find      1\n",
       "2         the      2\n",
       "3   frequency      1\n",
       "4       no.of      1\n",
       "5       times      1\n",
       "6       given      1\n",
       "7   substring      2\n",
       "8          is      1\n",
       "9       there      1\n",
       "10     inside      2\n",
       "11        the      2\n",
       "12         st      1\n",
       "13         of      1\n",
       "14          a      2\n",
       "15  substring      2\n",
       "16     inside      2\n",
       "17          a      2\n",
       "18     string      1"
      ]
     },
     "execution_count": 51,
     "metadata": {},
     "output_type": "execute_result"
    }
   ],
   "source": [
    "import pandas as pd\n",
    "pd.DataFrame(pp,columns = ['text','count'])"
   ]
  },
  {
   "cell_type": "code",
   "execution_count": 41,
   "metadata": {},
   "outputs": [
    {
     "data": {
      "text/plain": [
       "2"
      ]
     },
     "execution_count": 41,
     "metadata": {},
     "output_type": "execute_result"
    }
   ],
   "source": [
    "st.count('how',3,30)  # count(str[,start position[,end position]])"
   ]
  },
  {
   "cell_type": "code",
   "execution_count": 9,
   "metadata": {},
   "outputs": [
    {
     "name": "stdout",
     "output_type": "stream",
     "text": [
      "h\n"
     ]
    }
   ],
   "source": [
    "str1 ='hello'\n",
    "print(str1[:-4])"
   ]
  },
  {
   "cell_type": "code",
   "execution_count": 2,
   "metadata": {},
   "outputs": [
    {
     "name": "stdout",
     "output_type": "stream",
     "text": [
      "str[5:-2] ammi\n"
     ]
    }
   ],
   "source": [
    "str1='programming'\n",
    "print('str[5:-2]',str1[5:-2])"
   ]
  },
  {
   "cell_type": "code",
   "execution_count": 3,
   "metadata": {},
   "outputs": [
    {
     "name": "stdout",
     "output_type": "stream",
     "text": [
      "enter a stringmalayalam\n",
      "the given string is palindrome\n"
     ]
    }
   ],
   "source": [
    "# question 1 palindorme\n",
    "st = str(input('enter a string'))\n",
    "if(st[::-1].lower() == st.lower()):\n",
    "    print('the given string is palindrome')\n",
    "else:\n",
    "    print('not a palindrome')\n"
   ]
  },
  {
   "cell_type": "code",
   "execution_count": 20,
   "metadata": {},
   "outputs": [
    {
     "name": "stdout",
     "output_type": "stream",
     "text": [
      "enter a string: krishna kumar\n",
      "krishnakumar\n"
     ]
    }
   ],
   "source": [
    "# question 3     \n",
    "\n",
    "st1 = str(input(\"enter a string: \"))\n",
    "st2= st1.replace(\" \",\"\")  # removes all the white spaces in between strings \n",
    "print(st2)"
   ]
  },
  {
   "cell_type": "code",
   "execution_count": 4,
   "metadata": {},
   "outputs": [
    {
     "name": "stdout",
     "output_type": "stream",
     "text": [
      "enter a string: krishna\n",
      "k\n",
      "i\n",
      "h\n"
     ]
    }
   ],
   "source": [
    "#question 4\n",
    "st =str(input(\"enter a string: \"))\n",
    "for i in range (1,len(st),2):\n",
    "        print(st[i-1])"
   ]
  },
  {
   "cell_type": "code",
   "execution_count": 1,
   "metadata": {},
   "outputs": [
    {
     "name": "stdout",
     "output_type": "stream",
     "text": [
      "enter a string: krishna\n",
      "arishnk\n"
     ]
    }
   ],
   "source": [
    "# question 5\n",
    "st = str(input(\"enter a string: \"))\n",
    "n=len(st)\n",
    "#st1= str(input(\"enter a replacement string: \"))\n",
    "#st2 =st.replace(st,st1)\n",
    "#print(st2)\n",
    "#st3 = st2[1:len(st2)-1]\n",
    "#st4 = st2[len(st2)-1]\n",
    "#st5 = st2[len(st2)-len(st2)]\n",
    "new_str=st[n-1]+st[1:n-1]+st[0]\n",
    "print(new_str)"
   ]
  },
  {
   "cell_type": "code",
   "execution_count": 87,
   "metadata": {},
   "outputs": [
    {
     "name": "stdout",
     "output_type": "stream",
     "text": [
      "Enter a string: hello\n",
      "helo\n"
     ]
    }
   ],
   "source": [
    "# question 2\n",
    "st= str(input('Enter a string: '))\n",
    "l=len(st)\n",
    "\n",
    "if (l<=2):\n",
    "    print(st)\n",
    "else:\n",
    "    st1 = st[0:2]+st[l-2:l]\n",
    "    print(st1)"
   ]
  },
  {
   "cell_type": "markdown",
   "metadata": {},
   "source": [
    "## LIST "
   ]
  },
  {
   "cell_type": "code",
   "execution_count": 33,
   "metadata": {},
   "outputs": [
    {
     "name": "stdout",
     "output_type": "stream",
     "text": [
      "1 2 3 4\n",
      "(0, 1)\n",
      "(1, 2)\n",
      "(2, 3)\n",
      "(3, 4)\n"
     ]
    }
   ],
   "source": [
    "l = input().split()\n",
    "\n",
    "for i,j in enumerate(l):\n",
    "    print((i,int(j)))"
   ]
  },
  {
   "cell_type": "code",
   "execution_count": 3,
   "metadata": {},
   "outputs": [
    {
     "name": "stdout",
     "output_type": "stream",
     "text": [
      "41\n",
      "5**2 4**2\n",
      "yes\n"
     ]
    }
   ],
   "source": [
    "def sos1(n):\n",
    "    if n <0:\n",
    "        return 0\n",
    "    for i in range(1,n+1):\n",
    "        for j in range(1,i+1):\n",
    "            if(i**2 + j**2 == n):\n",
    "                print('{}**2'.format(i),'{}**2'.format(j))\n",
    "                return True\n",
    "            else:\n",
    "                False\n",
    "n = int(input())\n",
    "if(sos1(n)):\n",
    "    print('yes')\n",
    "else:\n",
    "    print('no')"
   ]
  },
  {
   "cell_type": "markdown",
   "metadata": {},
   "source": [
    "- List is an ordered sequence of values\n",
    "- it is a data structure in python\n",
    "- values inside the list can be of any data type including another list"
   ]
  },
  {
   "cell_type": "code",
   "execution_count": 8,
   "metadata": {},
   "outputs": [],
   "source": [
    "ls1=[] #empty list"
   ]
  },
  {
   "cell_type": "code",
   "execution_count": 9,
   "metadata": {},
   "outputs": [
    {
     "name": "stdout",
     "output_type": "stream",
     "text": [
      "<class 'list'>\n"
     ]
    }
   ],
   "source": [
    "print(type(ls1))"
   ]
  },
  {
   "cell_type": "code",
   "execution_count": 10,
   "metadata": {},
   "outputs": [
    {
     "name": "stdout",
     "output_type": "stream",
     "text": [
      "[10, 20, -4, 12]\n",
      "type of list : <class 'list'>\n"
     ]
    }
   ],
   "source": [
    "ls2=[10,20,-4,12]\n",
    "print(ls2)\n",
    "print('type of list :', type(ls2))"
   ]
  },
  {
   "cell_type": "code",
   "execution_count": 11,
   "metadata": {},
   "outputs": [
    {
     "name": "stdout",
     "output_type": "stream",
     "text": [
      "hi\n"
     ]
    }
   ],
   "source": [
    "ls3 =[3.5,4,'hi',[10,'hello']]\n",
    "print(ls3[2])"
   ]
  },
  {
   "cell_type": "code",
   "execution_count": 14,
   "metadata": {},
   "outputs": [
    {
     "name": "stdout",
     "output_type": "stream",
     "text": [
      "[3.5, 4, 'hi', [10, 'hello']]\n"
     ]
    }
   ],
   "source": [
    "print(ls3)  # print all the elements of list"
   ]
  },
  {
   "cell_type": "code",
   "execution_count": 21,
   "metadata": {},
   "outputs": [
    {
     "name": "stdout",
     "output_type": "stream",
     "text": [
      "3.5\n"
     ]
    }
   ],
   "source": [
    "print(ls3[0]) # print first element"
   ]
  },
  {
   "cell_type": "code",
   "execution_count": 16,
   "metadata": {},
   "outputs": [
    {
     "name": "stdout",
     "output_type": "stream",
     "text": [
      "4\n"
     ]
    }
   ],
   "source": [
    "print(ls3[1])  # print second element"
   ]
  },
  {
   "cell_type": "code",
   "execution_count": 17,
   "metadata": {},
   "outputs": [
    {
     "name": "stdout",
     "output_type": "stream",
     "text": [
      "hi\n"
     ]
    }
   ],
   "source": [
    "print(ls3[2])  # print third element"
   ]
  },
  {
   "cell_type": "code",
   "execution_count": 19,
   "metadata": {},
   "outputs": [
    {
     "name": "stdout",
     "output_type": "stream",
     "text": [
      "[10, 'hello']\n"
     ]
    }
   ],
   "source": [
    "print(ls3[3])   # print forth element"
   ]
  },
  {
   "cell_type": "code",
   "execution_count": 20,
   "metadata": {},
   "outputs": [
    {
     "name": "stdout",
     "output_type": "stream",
     "text": [
      "10\n"
     ]
    }
   ],
   "source": [
    " print(ls3[3][0])     # print first element of inner list ([10,'hello]')"
   ]
  },
  {
   "cell_type": "code",
   "execution_count": 13,
   "metadata": {},
   "outputs": [
    {
     "name": "stdout",
     "output_type": "stream",
     "text": [
      "h e\n"
     ]
    }
   ],
   "source": [
    "ls3 =[3.5,4,'hi',[10,'hello']]  # print 2nd element [hi] first character and 2nd character of string 'hello' of inner list \n",
    "print(ls3[2][0],ls3[3][1][1])\n",
    "                         "
   ]
  },
  {
   "cell_type": "code",
   "execution_count": 23,
   "metadata": {},
   "outputs": [
    {
     "name": "stdout",
     "output_type": "stream",
     "text": [
      "[1, 2, 3, 4, 5, 6, 7, 8, 9, 10]\n"
     ]
    }
   ],
   "source": [
    "# More operations\n",
    "\n",
    "ls = list(range(1,11))\n",
    "print(ls)"
   ]
  },
  {
   "cell_type": "code",
   "execution_count": 25,
   "metadata": {},
   "outputs": [
    {
     "name": "stdout",
     "output_type": "stream",
     "text": [
      "[1, 3, 5, 7, 9, 11, 13, 15, 17, 19]\n"
     ]
    }
   ],
   "source": [
    "ls =list(range(1,20,2))\n",
    "print(ls)"
   ]
  },
  {
   "cell_type": "code",
   "execution_count": 28,
   "metadata": {},
   "outputs": [
    {
     "name": "stdout",
     "output_type": "stream",
     "text": [
      "['hello', 10, 1, 2, 3, 4]\n"
     ]
    }
   ],
   "source": [
    "# Concatenation of lists using +\n",
    "ls1 =[1,2,3,4]\n",
    "ls2 =['hello',10]\n",
    "ls3 =ls2+ls1\n",
    "print(ls3)"
   ]
  },
  {
   "cell_type": "code",
   "execution_count": 30,
   "metadata": {},
   "outputs": [
    {
     "name": "stdout",
     "output_type": "stream",
     "text": [
      "[1, 2, 3, 1, 2, 3, 1, 2, 3]\n"
     ]
    }
   ],
   "source": [
    "#repetion using *\n",
    "ls=[1,2,3]\n",
    "ls1 = ls*3\n",
    "print(ls1)"
   ]
  },
  {
   "cell_type": "code",
   "execution_count": 32,
   "metadata": {},
   "outputs": [
    {
     "name": "stdout",
     "output_type": "stream",
     "text": [
      "enter a number: 3\n",
      "[3, 6, 9, 12, 15, 18, 21, 24, 27, 30]\n"
     ]
    }
   ],
   "source": [
    "x = int(input(\"enter a number: \"))\n",
    "ls=[]\n",
    "for i in range(1,11):\n",
    "    ls=ls+ [x*i]\n",
    "print(ls)"
   ]
  },
  {
   "cell_type": "code",
   "execution_count": 4,
   "metadata": {},
   "outputs": [
    {
     "name": "stdout",
     "output_type": "stream",
     "text": [
      "enter a number: 34\n"
     ]
    },
    {
     "data": {
      "text/plain": [
       "[('34 x 1', 34),\n",
       " ('34 x 2', 68),\n",
       " ('34 x 3', 102),\n",
       " ('34 x 4', 136),\n",
       " ('34 x 5', 170),\n",
       " ('34 x 6', 204),\n",
       " ('34 x 7', 238),\n",
       " ('34 x 8', 272),\n",
       " ('34 x 9', 306),\n",
       " ('34 x 10', 340)]"
      ]
     },
     "execution_count": 4,
     "metadata": {},
     "output_type": "execute_result"
    }
   ],
   "source": [
    "x = int(input(\"enter a number: \"))\n",
    "ls=[(\"{} x {}\".format(x,i),x*i) for i in range(1,11)]\n",
    "ls"
   ]
  },
  {
   "cell_type": "code",
   "execution_count": 46,
   "metadata": {},
   "outputs": [
    {
     "name": "stdout",
     "output_type": "stream",
     "text": [
      "['c', 'd']\n",
      "['a', 'b', 'c']\n",
      "['b', 'c', 'd', 'e']\n",
      "['a', 'b', 'c', 'd', 'e']\n",
      "['a', 'b', 'c']\n",
      "['e', 'd', 'c', 'b', 'a']\n"
     ]
    }
   ],
   "source": [
    "# List slicing\n",
    "\n",
    "t= ['a','b','c','d','e']\n",
    "print(t[2:4])\n",
    "print(t[:3])\n",
    "print(t[1:])\n",
    "print(t[:])\n",
    "print(t[:-2])\n",
    "print(t[::-1])"
   ]
  },
  {
   "cell_type": "code",
   "execution_count": 48,
   "metadata": {},
   "outputs": [
    {
     "name": "stdout",
     "output_type": "stream",
     "text": [
      "['a', 'b', 'c', 10, 'e']\n"
     ]
    }
   ],
   "source": [
    "#list are mutable\n",
    "\n",
    "t= ['a','b','c','d','e']\n",
    "t[3] = 10\n",
    "print(t)"
   ]
  },
  {
   "cell_type": "code",
   "execution_count": 49,
   "metadata": {},
   "outputs": [
    {
     "name": "stdout",
     "output_type": "stream",
     "text": [
      "['a', 10, 20, 'd', 'e']\n"
     ]
    }
   ],
   "source": [
    "t= ['a','b','c','d','e']  #multiple list assignments\n",
    "t[1:3] =[10,20]\n",
    "print(t)"
   ]
  },
  {
   "cell_type": "code",
   "execution_count": 88,
   "metadata": {},
   "outputs": [
    {
     "name": "stdout",
     "output_type": "stream",
     "text": [
      "10\n",
      "20\n",
      "hello\n",
      "34\n"
     ]
    }
   ],
   "source": [
    "ls =[10,20,'hello',34]   # Using for loop in list\n",
    "for i in ls:\n",
    "    print(i)\n",
    "    "
   ]
  },
  {
   "cell_type": "code",
   "execution_count": 94,
   "metadata": {},
   "outputs": [
    {
     "name": "stdout",
     "output_type": "stream",
     "text": [
      "10\n",
      "20\n",
      "hello\n",
      "34\n"
     ]
    }
   ],
   "source": [
    "ls =[10,20,'hello',34]\n",
    "for i in range(len(ls)):\n",
    "    print(ls[i])"
   ]
  },
  {
   "cell_type": "code",
   "execution_count": 95,
   "metadata": {},
   "outputs": [],
   "source": [
    "# List operations \n",
    "# append\n",
    "# extend"
   ]
  },
  {
   "cell_type": "code",
   "execution_count": 97,
   "metadata": {},
   "outputs": [
    {
     "name": "stdout",
     "output_type": "stream",
     "text": [
      "[10, 20, 'hello', 34, 45]\n",
      "None\n"
     ]
    }
   ],
   "source": [
    "# Append list --> will add the new element at the end of list\n",
    "ls =[10,20,'hello',34]\n",
    "x= ls.append(45)\n",
    "print(ls)\n",
    "print (x)"
   ]
  },
  {
   "cell_type": "code",
   "execution_count": 98,
   "metadata": {},
   "outputs": [
    {
     "name": "stdout",
     "output_type": "stream",
     "text": [
      "['hi', 101, 10, 20, 'hello', 34]\n"
     ]
    }
   ],
   "source": [
    "# Extend list--> extend fuction will add the new elements to its own list as individual element\n",
    "# ls.extend(ls1) and ls1.extend(ls) will return different result\n",
    "ls =[10,20,'hello',34]\n",
    "ls1 = ['hi',101]\n",
    "ls1.extend(ls)\n",
    "print(ls1)"
   ]
  },
  {
   "cell_type": "code",
   "execution_count": 99,
   "metadata": {},
   "outputs": [
    {
     "name": "stdout",
     "output_type": "stream",
     "text": [
      "['hi', 101, [10, 20, 'hello', 34]]\n"
     ]
    }
   ],
   "source": [
    "# append list --> when appending two or more list , append will add the new list as list but not treat it as individual elements \n",
    "ls =[10,20,'hello',34]\n",
    "ls1 = ['hi',101]\n",
    "ls1.append(ls)\n",
    "print(ls1)"
   ]
  },
  {
   "cell_type": "code",
   "execution_count": null,
   "metadata": {},
   "outputs": [],
   "source": []
  }
 ],
 "metadata": {
  "kernelspec": {
   "display_name": "Python 3",
   "language": "python",
   "name": "python3"
  },
  "language_info": {
   "codemirror_mode": {
    "name": "ipython",
    "version": 3
   },
   "file_extension": ".py",
   "mimetype": "text/x-python",
   "name": "python",
   "nbconvert_exporter": "python",
   "pygments_lexer": "ipython3",
   "version": "3.8.3"
  }
 },
 "nbformat": 4,
 "nbformat_minor": 4
}
