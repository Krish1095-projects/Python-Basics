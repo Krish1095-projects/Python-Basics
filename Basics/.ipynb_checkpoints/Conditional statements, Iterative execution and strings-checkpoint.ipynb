{
 "cells": [
  {
   "cell_type": "markdown",
   "metadata": {},
   "source": [
    "## Conditional Execution"
   ]
  },
  {
   "cell_type": "code",
   "execution_count": 2,
   "metadata": {},
   "outputs": [
    {
     "name": "stdout",
     "output_type": "stream",
     "text": [
      "enter a number :4\n",
      "Over!!\n"
     ]
    }
   ],
   "source": [
    "# simple-if Statement\n",
    "\n",
    "x= int(input('enter a number :'))\n",
    "if x<0:\n",
    "    print(\"you have entered negative number:\")     # to indicate block of code like this using intendation (4 word of space from begining)\n",
    "\n",
    "print('Over!!')"
   ]
  },
  {
   "cell_type": "code",
   "execution_count": 3,
   "metadata": {},
   "outputs": [
    {
     "name": "stdout",
     "output_type": "stream",
     "text": [
      "enter a number :-30\n",
      "you have entered negative number:\n",
      "Over!!\n"
     ]
    }
   ],
   "source": [
    "# simple-if Statement\n",
    "\n",
    "x= int(input('enter a number :'))\n",
    "if x<0:\n",
    "    print(\"you have entered negative number:\")     # to indicate block of code like this using intendation (4 word of space from begining)\n",
    "\n",
    "print('Over!!')"
   ]
  },
  {
   "cell_type": "code",
   "execution_count": 5,
   "metadata": {},
   "outputs": [
    {
     "name": "stdout",
     "output_type": "stream",
     "text": [
      "Enter username:kris\n",
      "enter 4-digit pin number1234\n",
      "login successful\n"
     ]
    }
   ],
   "source": [
    "# if-else Statement\n",
    "\n",
    "x= str(input('Enter username:'))\n",
    "y= int(input('enter 4-digit pin number'))\n",
    "\n",
    "if (x =='kris' and y ==1234):\n",
    "    print ('login successful')\n",
    "else:\n",
    "    print ('wrong username or password')\n",
    "    \n",
    "\n",
    "    "
   ]
  },
  {
   "cell_type": "code",
   "execution_count": 1,
   "metadata": {},
   "outputs": [
    {
     "name": "stdout",
     "output_type": "stream",
     "text": [
      "enter a choice:4\n",
      "wrong choice\n",
      "enter value of a: 3\n",
      "enter value of b: 4\n",
      "enter a choice:3\n",
      "multiply\n",
      "12\n"
     ]
    }
   ],
   "source": [
    "# Chained conditional Statements (if-elif Statement)\n",
    "\n",
    "x = int(input('enter a choice:'))\n",
    "\n",
    "if x==1 :\n",
    "    print('addition')\n",
    "    a= int(input('enter value of a: '))\n",
    "    b= int(input('enter value of b: '))\n",
    "    c=a+b\n",
    "    print(c)\n",
    "elif x==2 :\n",
    "    print('substraction')\n",
    "    a= int(input('enter value of a: '))\n",
    "    b= int(input('enter value of b: '))\n",
    "    c=a-b\n",
    "    print(c)\n",
    "elif x==3 :\n",
    "    print('multiply')\n",
    "    a= int(input('enter value of a: '))\n",
    "    b= int(input('enter value of b: '))\n",
    "    c=a*b\n",
    "    print(c)\n",
    "else :\n",
    "    print('wrong choice')\n",
    "    \n",
    "    \n",
    "    \n",
    "def cal(a,b):\n",
    "    x = int(input('enter a choice:'))\n",
    "\n",
    "    if x==1 :\n",
    "        print('addition')\n",
    "        c=a+b\n",
    "        print(c)\n",
    "    elif x==2 :\n",
    "        print('substraction')  \n",
    "        c=a-b\n",
    "        print(c)\n",
    "    elif x==3 :\n",
    "        print('multiply')\n",
    "        c=a*b\n",
    "        print(c)\n",
    "    elif x==4:\n",
    "        print('Division and floor division')\n",
    "        c= a/b\n",
    "        d=a%b\n",
    "        print(c,d)\n",
    "    else :\n",
    "        print('wrong choice')\n",
    "    \n",
    "a= int(input('enter value of a: '))\n",
    "b= int(input('enter value of b: '))\n",
    "cal(a,b)"
   ]
  },
  {
   "cell_type": "code",
   "execution_count": 8,
   "metadata": {},
   "outputs": [
    {
     "name": "stdout",
     "output_type": "stream",
     "text": [
      "Enter Uname :kris\n",
      "Enter pin number :123\n",
      "enter class :2\n",
      "login successful\n"
     ]
    }
   ],
   "source": [
    "#nested Statements\n",
    "\n",
    "\n",
    "\n",
    "x = str(input('Enter Uname :'))\n",
    "y = int(input('Enter pin number :'))\n",
    "z = int(input('enter class :'))\n",
    "\n",
    "if x == 'kris':\n",
    "    if y == 123 :\n",
    "        if z == 2 :\n",
    "            print ('login successful')\n",
    "        else:\n",
    "            print ('invalid login credentials')\n",
    "            \n",
    "            "
   ]
  },
  {
   "cell_type": "code",
   "execution_count": 10,
   "metadata": {},
   "outputs": [
    {
     "name": "stdout",
     "output_type": "stream",
     "text": [
      "enter the U-nameram\n",
      "welcome RAM\n"
     ]
    }
   ],
   "source": [
    "# write a progra that uses input to prompt a user for their name and then welcome the person\n",
    "\n",
    "x = str(input('enter the U-name'))\n",
    "if x =='ram' :\n",
    "    print('welcome RAM')\n",
    "else:\n",
    "    print('wrong u-name')\n",
    "    "
   ]
  },
  {
   "cell_type": "code",
   "execution_count": 13,
   "metadata": {},
   "outputs": [
    {
     "name": "stdout",
     "output_type": "stream",
     "text": [
      "enter the username: krish\n",
      "enter the job title: programmer\n",
      "enter the number of hours  worked: 12\n",
      "enter the rate per hour for the entered job: 45\n",
      "The gross pay is of krish is 540\n"
     ]
    }
   ],
   "source": [
    "#write a program to calculate the gross pay of an employee by prompting the user by asking their number of hours worked and salary in rate per hour\n",
    "\n",
    "a= str(input('enter the username: '))\n",
    "b= str(input('enter the job title: '))\n",
    "x = int(input('enter the number of hours  worked: '))\n",
    "y = int (input('enter the rate per hour for the entered job: '))\n",
    "z = x*y\n",
    "\n",
    "if a=='krish' and b=='programmer':\n",
    "    print('The gross pay is of',a,'is',z)\n",
    "else:\n",
    "    print ('wrong username')\n",
    "    \n",
    "\n",
    "\n"
   ]
  },
  {
   "cell_type": "code",
   "execution_count": 17,
   "metadata": {},
   "outputs": [
    {
     "name": "stdout",
     "output_type": "stream",
     "text": [
      "enter the degree celcius :45\n",
      "the fahrenheit is: 113.0\n"
     ]
    }
   ],
   "source": [
    "#write a program to convert from celcius to franheit\n",
    "\n",
    "a= int(input('enter the degree celcius :'))\n",
    "b= (a*9)/5 + 32\n",
    "print ('the fahrenheit is:', b)"
   ]
  },
  {
   "cell_type": "markdown",
   "metadata": {},
   "source": [
    "## Iterative Execution\n",
    "\n",
    "- while loop\n",
    "- for loop\n",
    "- break statement\n",
    "- continue statement"
   ]
  },
  {
   "cell_type": "code",
   "execution_count": 19,
   "metadata": {},
   "outputs": [
    {
     "name": "stdout",
     "output_type": "stream",
     "text": [
      "1\n",
      "2\n",
      "3\n",
      "4\n",
      "5\n",
      "6\n",
      "end of loop\n"
     ]
    }
   ],
   "source": [
    "# while loop\n",
    "\n",
    "x= 0\n",
    "while x<= 5:      # x will be incremented or updated until x value is less or equal to 5. (x<=5 called as expression)\n",
    "    x= x+1\n",
    "    print (x)\n",
    "print('end of loop')\n"
   ]
  },
  {
   "cell_type": "code",
   "execution_count": 21,
   "metadata": {},
   "outputs": [
    {
     "name": "stdout",
     "output_type": "stream",
     "text": [
      "enter a number : -5\n",
      "enter a number : -6\n",
      "enter a number : -7\n",
      "enter a number : -8\n",
      "enter a number : 9\n",
      "you have successfull entered a positive number\n"
     ]
    }
   ],
   "source": [
    "# break statement : it is used to terminate the loop before meeting the condition\n",
    "\n",
    "while True:\n",
    "    num = int(input('enter a number : '))\n",
    "    if num>0:\n",
    "        print('you have successfull entered a positive number')\n",
    "        break"
   ]
  },
  {
   "cell_type": "code",
   "execution_count": 2,
   "metadata": {},
   "outputs": [
    {
     "name": "stdout",
     "output_type": "stream",
     "text": [
      "enter a number : 1\n",
      "enter a number : 2\n",
      "enter a number : 3\n",
      "enter a number : 4\n",
      "enter a number : -5\n",
      "you have successfull entered a negative number\n",
      "sum of all the positive integers : 10\n"
     ]
    }
   ],
   "source": [
    "# (important)keep reading numbers till you enter a negative number . find the sum of all the positive numbers and display the sum\n",
    "\n",
    "s = 0\n",
    "while True:\n",
    "    num = int(input('enter a number : '))\n",
    "    \n",
    "    if num<0:\n",
    "        print('you have successfull entered a negative number')\n",
    "        break\n",
    "    else:\n",
    "        s =s + num\n",
    "print ('sum of all the positive integers :', s)       "
   ]
  },
  {
   "cell_type": "code",
   "execution_count": 1,
   "metadata": {},
   "outputs": [
    {
     "name": "stdout",
     "output_type": "stream",
     "text": [
      "Enter the number: 1\n",
      "you entered 1\n",
      "Enter the number: 2\n",
      "you entered 2\n",
      "Enter the number: 3\n",
      "you entered 3\n",
      "Enter the number: 4\n",
      "you entered 4\n",
      "Enter the number: 5\n",
      "you entered 5\n"
     ]
    }
   ],
   "source": [
    "# Continue Statement : It will skip the further statements in the loop and continue with the next iteration of the loop\n",
    "\n",
    "n=1\n",
    "while n<=5:\n",
    "    x = int(input ('Enter the number: '))\n",
    "    if x<0:\n",
    "        continue         # skip the further statements [print('you entered', x) n=n+1]  in the loop and continue with the while loop\n",
    "    print('you entered', x)\n",
    "    n=n+1"
   ]
  },
  {
   "cell_type": "code",
   "execution_count": 6,
   "metadata": {},
   "outputs": [
    {
     "name": "stdout",
     "output_type": "stream",
     "text": [
      "0\n",
      "1\n",
      "2\n",
      "3\n",
      "4\n",
      "5\n",
      "6\n",
      "7\n",
      "8\n",
      "9\n"
     ]
    }
   ],
   "source": [
    "# For loop\n",
    "# Syntax of Range function ==> range(start, end, stride)\n",
    "\n",
    "for i in range (10):\n",
    "    print (i)"
   ]
  },
  {
   "cell_type": "code",
   "execution_count": 7,
   "metadata": {},
   "outputs": [
    {
     "name": "stdout",
     "output_type": "stream",
     "text": [
      "10\n",
      "13\n",
      "16\n",
      "19\n"
     ]
    }
   ],
   "source": [
    "for i in range (10,20,3):\n",
    "    print (i)"
   ]
  },
  {
   "cell_type": "code",
   "execution_count": 8,
   "metadata": {},
   "outputs": [
    {
     "name": "stdout",
     "output_type": "stream",
     "text": [
      "30\n",
      "27\n",
      "24\n",
      "21\n",
      "18\n",
      "15\n",
      "12\n"
     ]
    }
   ],
   "source": [
    "for i in range (30,10,-3):\n",
    "    print (i)"
   ]
  },
  {
   "cell_type": "code",
   "execution_count": 4,
   "metadata": {},
   "outputs": [
    {
     "name": "stdout",
     "output_type": "stream",
     "text": [
      "enter a number: 20\n"
     ]
    }
   ],
   "source": [
    "u = int(input('enter a number: '))\n",
    "for i in range (u,20,-1):\n",
    "     print(i)"
   ]
  },
  {
   "cell_type": "code",
   "execution_count": 77,
   "metadata": {},
   "outputs": [
    {
     "name": "stdout",
     "output_type": "stream",
     "text": [
      "(1, 'KK_1')\n",
      "(2, 'KK_2')\n",
      "(3, 'KK_3')\n",
      "(4, 'KK_4')\n",
      "(5, 'KK_5')\n",
      "(6, 'KK_6')\n",
      "(7, 'KK_7')\n",
      "(8, 'KK_8')\n",
      "(9, 'KK_9')\n",
      "(10, 'KK_10')\n"
     ]
    }
   ],
   "source": [
    "i =1 \n",
    "ls = []\n",
    "while i <=10:\n",
    "    ls.append((i,\"KK_{}\".format(i)))\n",
    "    dic = dict(ls)\n",
    "    i+=1\n",
    "for i,j in dic.items():\n",
    "    print((i,j))"
   ]
  },
  {
   "cell_type": "code",
   "execution_count": 4,
   "metadata": {},
   "outputs": [
    {
     "data": {
      "text/plain": [
       "[(3, 4, 5),\n",
       " (3, 4, 7),\n",
       " (3, 4, 9),\n",
       " (3, 6, 5),\n",
       " (3, 6, 7),\n",
       " (3, 6, 9),\n",
       " (3, 8, 5),\n",
       " (3, 8, 7),\n",
       " (3, 8, 9),\n",
       " (5, 4, 5),\n",
       " (5, 4, 7),\n",
       " (5, 4, 9),\n",
       " (5, 6, 5),\n",
       " (5, 6, 7),\n",
       " (5, 6, 9),\n",
       " (5, 8, 5),\n",
       " (5, 8, 7),\n",
       " (5, 8, 9),\n",
       " (7, 4, 5),\n",
       " (7, 4, 7),\n",
       " (7, 4, 9),\n",
       " (7, 6, 5),\n",
       " (7, 6, 7),\n",
       " (7, 6, 9),\n",
       " (7, 8, 5),\n",
       " (7, 8, 7),\n",
       " (7, 8, 9),\n",
       " (9, 4, 5),\n",
       " (9, 4, 7),\n",
       " (9, 4, 9),\n",
       " (9, 6, 5),\n",
       " (9, 6, 7),\n",
       " (9, 6, 9),\n",
       " (9, 8, 5),\n",
       " (9, 8, 7),\n",
       " (9, 8, 9)]"
      ]
     },
     "execution_count": 4,
     "metadata": {},
     "output_type": "execute_result"
    }
   ],
   "source": [
    "# Nested loops\n",
    "ls = []\n",
    "for i in range(3,10,2):\n",
    "    for j in range(4,10,2):\n",
    "        for k in range(5,10,2):\n",
    "            ls.append((i,j,k))\n",
    "ls"
   ]
  },
  {
   "cell_type": "markdown",
   "metadata": {},
   "source": [
    "## User defined functions"
   ]
  },
  {
   "cell_type": "code",
   "execution_count": 4,
   "metadata": {},
   "outputs": [
    {
     "name": "stdout",
     "output_type": "stream",
     "text": [
      "illustration of user-defined function\n",
      "hello\n",
      "free\n",
      "over\n",
      "hello\n",
      "free\n"
     ]
    }
   ],
   "source": [
    "# Syntax ==> \n",
    "# def function_name():\n",
    "# :\n",
    "# :\n",
    "# function_name();\n",
    "\n",
    "\n",
    "def fname():            # function name is fname // def -> definition of the function\n",
    "    print('hello')      \n",
    "    print('free')\n",
    "print('illustration of user-defined function')   \n",
    "fname()           # function invocation or function call (any number of times function can be called within the code)\n",
    "print('over')\n",
    "fname()"
   ]
  },
  {
   "cell_type": "code",
   "execution_count": 11,
   "metadata": {},
   "outputs": [
    {
     "name": "stdout",
     "output_type": "stream",
     "text": [
      "enter a number: 3\n",
      "0\n",
      "1\n",
      "2\n"
     ]
    }
   ],
   "source": [
    "def kri():\n",
    "    a= int(input('enter a number: '))\n",
    "    for i in range (a):\n",
    "        print (i)\n",
    "kri();\n",
    "    "
   ]
  },
  {
   "cell_type": "code",
   "execution_count": 12,
   "metadata": {},
   "outputs": [
    {
     "name": "stdout",
     "output_type": "stream",
     "text": [
      "example of function with arguements\n",
      "argument is  hello\n",
      "argument is  30\n",
      "over\n"
     ]
    }
   ],
   "source": [
    "#Functions with arguments and parameters\n",
    "\n",
    "def test(var):                    # var is formal parameter\n",
    "    print('argument is ', var)\n",
    "print (\"example of function with arguements\")\n",
    "x='hello'\n",
    "test(x)                          # x and y are actual arguement\n",
    "y= 30\n",
    "test(y)\n",
    "print ('over')"
   ]
  },
  {
   "cell_type": "code",
   "execution_count": 79,
   "metadata": {},
   "outputs": [
    {
     "name": "stdout",
     "output_type": "stream",
     "text": [
      "example of function with arguements\n",
      "argument is \n",
      "hellohellohello\n",
      "160\n",
      "over\n"
     ]
    }
   ],
   "source": [
    "# Multiple assignments\n",
    "\n",
    "def test(var,arg):                          # var is formal parameter\n",
    "    print('argument is ', var, arg ,sep =\"\\n\" )\n",
    "    \n",
    "print (\"example of function with arguements\")\n",
    "x,y='hello',40\n",
    "test((x*3),(y*4))                          # x and y are actual arguement\n",
    "print ('over')"
   ]
  },
  {
   "cell_type": "code",
   "execution_count": 26,
   "metadata": {},
   "outputs": [
    {
     "data": {
      "text/plain": [
       "1296"
      ]
     },
     "execution_count": 26,
     "metadata": {},
     "output_type": "execute_result"
    }
   ],
   "source": [
    "def h(m,n):\n",
    "    ans = 1\n",
    "    while (n>0):\n",
    "        (ans,n) = (ans*m, n-2)\n",
    "    return (ans)\n",
    "h(6,8)"
   ]
  },
  {
   "cell_type": "code",
   "execution_count": 29,
   "metadata": {},
   "outputs": [
    {
     "name": "stdout",
     "output_type": "stream",
     "text": [
      "enter the first number :2\n",
      "enter the first number :5\n"
     ]
    },
    {
     "data": {
      "text/plain": [
       "10"
      ]
     },
     "execution_count": 29,
     "metadata": {},
     "output_type": "execute_result"
    }
   ],
   "source": [
    "# Functions with return value\n",
    "\n",
    "def product(m,n):\n",
    "    p= m*n\n",
    "    return p\n",
    "x = int(input('enter the first number :'))\n",
    "y = int(input('enter the first number :'))\n",
    "product(x,y)\n"
   ]
  },
  {
   "cell_type": "code",
   "execution_count": 6,
   "metadata": {},
   "outputs": [
    {
     "data": {
      "text/plain": [
       "3628800"
      ]
     },
     "execution_count": 6,
     "metadata": {},
     "output_type": "execute_result"
    }
   ],
   "source": [
    "def fact(n):\n",
    "    if n ==0:\n",
    "        return 1\n",
    "    else:\n",
    "        return (n*fact(n-1)) ## n! = n*(n-i)\n",
    "fact(10)"
   ]
  },
  {
   "cell_type": "code",
   "execution_count": 11,
   "metadata": {},
   "outputs": [
    {
     "name": "stdout",
     "output_type": "stream",
     "text": [
      "1\n"
     ]
    },
    {
     "ename": "NameError",
     "evalue": "name 'fact1' is not defined",
     "output_type": "error",
     "traceback": [
      "\u001b[1;31m---------------------------------------------------------------------------\u001b[0m",
      "\u001b[1;31mNameError\u001b[0m                                 Traceback (most recent call last)",
      "\u001b[1;32m<ipython-input-11-f9d8667e99eb>\u001b[0m in \u001b[0;36m<module>\u001b[1;34m\u001b[0m\n\u001b[0;32m      5\u001b[0m         \u001b[0mprint\u001b[0m\u001b[1;33m(\u001b[0m\u001b[1;36m1\u001b[0m\u001b[1;33m)\u001b[0m\u001b[1;33m\u001b[0m\u001b[1;33m\u001b[0m\u001b[0m\n\u001b[0;32m      6\u001b[0m     \u001b[1;32melse\u001b[0m\u001b[1;33m:\u001b[0m\u001b[1;33m\u001b[0m\u001b[1;33m\u001b[0m\u001b[0m\n\u001b[1;32m----> 7\u001b[1;33m         \u001b[0mfact1\u001b[0m \u001b[1;33m=\u001b[0m \u001b[0mfact1\u001b[0m\u001b[1;33m+\u001b[0m \u001b[0mn\u001b[0m\u001b[1;33m*\u001b[0m\u001b[1;33m(\u001b[0m\u001b[0mn\u001b[0m\u001b[1;33m-\u001b[0m\u001b[0mi\u001b[0m\u001b[1;33m)\u001b[0m\u001b[1;33m\u001b[0m\u001b[1;33m\u001b[0m\u001b[0m\n\u001b[0m\u001b[0;32m      8\u001b[0m \u001b[0mprint\u001b[0m\u001b[1;33m(\u001b[0m\u001b[0mfact1\u001b[0m\u001b[1;33m)\u001b[0m\u001b[1;33m\u001b[0m\u001b[1;33m\u001b[0m\u001b[0m\n",
      "\u001b[1;31mNameError\u001b[0m: name 'fact1' is not defined"
     ]
    }
   ],
   "source": [
    "n =5\n",
    "facct1=0\n",
    "for i in range(n):\n",
    "    if i == 0 :\n",
    "        print(1)\n",
    "    else:\n",
    "        fact1 = fact1+ n*(n-i)\n",
    "print(fact1)"
   ]
  },
  {
   "cell_type": "code",
   "execution_count": 12,
   "metadata": {},
   "outputs": [
    {
     "name": "stdout",
     "output_type": "stream",
     "text": [
      "enter a non negative number: 5\n",
      "the factorial of 5 is 120\n"
     ]
    }
   ],
   "source": [
    "# Factorial using recursive function call \n",
    "\n",
    "def f(m):\n",
    "    if m == 0:\n",
    "        return(1)\n",
    "    else:\n",
    "        return(m*f(m-1))\n",
    "    \n",
    "n = int(input('enter a non negative number: '))\n",
    "\n",
    "if n<0:\n",
    "    print('invalid number')\n",
    "else:\n",
    "    fact = f(n)\n",
    "    print('the factorial of',n,'is', fact)\n",
    "    "
   ]
  },
  {
   "cell_type": "code",
   "execution_count": 94,
   "metadata": {},
   "outputs": [
    {
     "name": "stdout",
     "output_type": "stream",
     "text": [
      "25\n",
      "4**2 3**2\n",
      "yes\n"
     ]
    }
   ],
   "source": [
    "def sos1(n):\n",
    "    if n <0:\n",
    "        return 0\n",
    "    for i in range(1,n+1):\n",
    "        for j in range(1,i+1):\n",
    "            if(i**2 + j**2 == n):\n",
    "                print('{}**2'.format(i),'{}**2'.format(j))\n",
    "                return True\n",
    "            else:\n",
    "                False\n",
    "n = int(input())\n",
    "if(sos1(n)):\n",
    "    print('yes')\n",
    "else:\n",
    "    print('no')"
   ]
  },
  {
   "cell_type": "code",
   "execution_count": 1,
   "metadata": {},
   "outputs": [
    {
     "name": "stdout",
     "output_type": "stream",
     "text": [
      "Enter a number: 41\n",
      "4 ^2 +  5 ^2\n",
      "Yes\n"
     ]
    }
   ],
   "source": [
    "# A positive integer m is a sum of squares if it can be written as k+p where k>0 , p>0 and both k and p are perfect squares.\n",
    "# write a python function sumofsquares(m) that takes an integer m retsurns true if m is a sumofsquares and false otherwise. \n",
    "#(if m is not positive , your function should return false).\n",
    "\n",
    "def sumSquare( n) : \n",
    "    i = 1 \n",
    "    while i * i <= n : \n",
    "        j = 1\n",
    "        while(j * j <= n) : \n",
    "            if (i * i + j * j == n) : \n",
    "                print(i, \"^2 + \", j , \"^2\" ) \n",
    "                return True\n",
    "            j = j + 1\n",
    "        i = i + 1\n",
    "          \n",
    "    return False\n",
    "   \n",
    "# driver Program \n",
    "n = int(input('Enter a number: '))\n",
    "if (sumSquare(n)) : \n",
    "    print(\"Yes\") \n",
    "else : \n",
    "    print( \"No\") \n",
    "\n",
    "    \n",
    "\n"
   ]
  },
  {
   "cell_type": "markdown",
   "metadata": {},
   "source": [
    "## Strings\n",
    "- string is a collection of characters enclosed within single qoutes or double qoutes\n",
    "- strings are immutable- cannot be modified"
   ]
  },
  {
   "cell_type": "code",
   "execution_count": 41,
   "metadata": {},
   "outputs": [
    {
     "name": "stdout",
     "output_type": "stream",
     "text": [
      "<class 'str'>\n"
     ]
    }
   ],
   "source": [
    "s = 'hello'\n",
    "print(type (s))\n"
   ]
  },
  {
   "cell_type": "code",
   "execution_count": 42,
   "metadata": {},
   "outputs": [
    {
     "data": {
      "text/plain": [
       "'l'"
      ]
     },
     "execution_count": 42,
     "metadata": {},
     "output_type": "execute_result"
    }
   ],
   "source": [
    "s[3]"
   ]
  },
  {
   "cell_type": "code",
   "execution_count": 43,
   "metadata": {},
   "outputs": [
    {
     "data": {
      "text/plain": [
       "'o'"
      ]
     },
     "execution_count": 43,
     "metadata": {},
     "output_type": "execute_result"
    }
   ],
   "source": [
    "s[4]"
   ]
  },
  {
   "cell_type": "code",
   "execution_count": 44,
   "metadata": {},
   "outputs": [
    {
     "ename": "TypeError",
     "evalue": "'str' object does not support item assignment",
     "output_type": "error",
     "traceback": [
      "\u001b[1;31m---------------------------------------------------------------------------\u001b[0m",
      "\u001b[1;31mTypeError\u001b[0m                                 Traceback (most recent call last)",
      "\u001b[1;32m<ipython-input-44-0a9fa0e3594a>\u001b[0m in \u001b[0;36m<module>\u001b[1;34m\u001b[0m\n\u001b[1;32m----> 1\u001b[1;33m \u001b[0ms\u001b[0m\u001b[1;33m[\u001b[0m\u001b[1;36m2\u001b[0m\u001b[1;33m]\u001b[0m \u001b[1;33m=\u001b[0m\u001b[1;34m'd'\u001b[0m\u001b[1;33m\u001b[0m\u001b[1;33m\u001b[0m\u001b[0m\n\u001b[0m",
      "\u001b[1;31mTypeError\u001b[0m: 'str' object does not support item assignment"
     ]
    }
   ],
   "source": [
    "s[2] ='d'    # strings are immutable"
   ]
  },
  {
   "cell_type": "code",
   "execution_count": 47,
   "metadata": {},
   "outputs": [
    {
     "name": "stdout",
     "output_type": "stream",
     "text": [
      "o\n",
      "e\n",
      "e\n",
      "h\n",
      "e\n",
      "h\n"
     ]
    }
   ],
   "source": [
    "# Negative Indexing -  starts from the end of the string\n",
    "# Last character is indexed as -1\n",
    "\n",
    "var ='hello'\n",
    "print (var[-1])\n",
    "print (var[1])\n",
    "print (var[-4])\n",
    "print (var[-5])\n",
    "print (var[1])\n",
    "print (var[0])\n"
   ]
  },
  {
   "cell_type": "markdown",
   "metadata": {},
   "source": [
    "## String slicing"
   ]
  },
  {
   "cell_type": "code",
   "execution_count": 49,
   "metadata": {},
   "outputs": [
    {
     "name": "stdout",
     "output_type": "stream",
     "text": [
      "st[0:5] hello\n",
      "st[:4] hell\n",
      "st[3:8] lo wo\n",
      "st[7:] orld\n",
      "st[4:4] \n",
      "st[:] hello world\n"
     ]
    }
   ],
   "source": [
    "st ='hello world'\n",
    "print(\"st[0:5]\",st[0:5])\n",
    "print(\"st[:4]\",st[:4])\n",
    "print(\"st[3:8]\",st[3:8])\n",
    "print(\"st[7:]\",st[7:])\n",
    "print(\"st[4:4]\",st[4:4])    # start with 4--> end with 3 is not possible in string\n",
    "print(\"st[:]\",st[:])"
   ]
  },
  {
   "cell_type": "code",
   "execution_count": 50,
   "metadata": {},
   "outputs": [
    {
     "name": "stdout",
     "output_type": "stream",
     "text": [
      "eooa u\n"
     ]
    }
   ],
   "source": [
    "s = 'hello how are you'\n",
    "print(s[1::3])"
   ]
  },
  {
   "cell_type": "code",
   "execution_count": 51,
   "metadata": {},
   "outputs": [
    {
     "name": "stdout",
     "output_type": "stream",
     "text": [
      "dlrow olleh\n"
     ]
    }
   ],
   "source": [
    "st= 'hello world'\n",
    "print(st[::-1])"
   ]
  },
  {
   "cell_type": "code",
   "execution_count": 53,
   "metadata": {},
   "outputs": [
    {
     "name": "stdout",
     "output_type": "stream",
     "text": [
      "helto world\n"
     ]
    }
   ],
   "source": [
    "#alternative method\n",
    "st1 = st[:3]+'t'+st[4:]\n",
    "print (st1)"
   ]
  },
  {
   "cell_type": "markdown",
   "metadata": {},
   "source": [
    "## Built in functons for String\n",
    "\n",
    "- str.len(s)\n",
    "- capitalize(s)\n",
    "- s.upper()\n",
    "- s.lower()\n",
    "- s.find()\n",
    "- s.strip()\n",
    "- s.statrswith()\n",
    "- s.count()"
   ]
  },
  {
   "cell_type": "code",
   "execution_count": 117,
   "metadata": {},
   "outputs": [],
   "source": [
    "import os"
   ]
  },
  {
   "cell_type": "code",
   "execution_count": 71,
   "metadata": {},
   "outputs": [
    {
     "data": {
      "text/plain": [
       "['__add__',\n",
       " '__class__',\n",
       " '__contains__',\n",
       " '__delattr__',\n",
       " '__dir__',\n",
       " '__doc__',\n",
       " '__eq__',\n",
       " '__format__',\n",
       " '__ge__',\n",
       " '__getattribute__',\n",
       " '__getitem__',\n",
       " '__getnewargs__',\n",
       " '__gt__',\n",
       " '__hash__',\n",
       " '__init__',\n",
       " '__init_subclass__',\n",
       " '__iter__',\n",
       " '__le__',\n",
       " '__len__',\n",
       " '__lt__',\n",
       " '__mod__',\n",
       " '__mul__',\n",
       " '__ne__',\n",
       " '__new__',\n",
       " '__reduce__',\n",
       " '__reduce_ex__',\n",
       " '__repr__',\n",
       " '__rmod__',\n",
       " '__rmul__',\n",
       " '__setattr__',\n",
       " '__sizeof__',\n",
       " '__str__',\n",
       " '__subclasshook__',\n",
       " 'capitalize',\n",
       " 'casefold',\n",
       " 'center',\n",
       " 'count',\n",
       " 'encode',\n",
       " 'endswith',\n",
       " 'expandtabs',\n",
       " 'find',\n",
       " 'format',\n",
       " 'format_map',\n",
       " 'index',\n",
       " 'isalnum',\n",
       " 'isalpha',\n",
       " 'isascii',\n",
       " 'isdecimal',\n",
       " 'isdigit',\n",
       " 'isidentifier',\n",
       " 'islower',\n",
       " 'isnumeric',\n",
       " 'isprintable',\n",
       " 'isspace',\n",
       " 'istitle',\n",
       " 'isupper',\n",
       " 'join',\n",
       " 'ljust',\n",
       " 'lower',\n",
       " 'lstrip',\n",
       " 'maketrans',\n",
       " 'partition',\n",
       " 'replace',\n",
       " 'rfind',\n",
       " 'rindex',\n",
       " 'rjust',\n",
       " 'rpartition',\n",
       " 'rsplit',\n",
       " 'rstrip',\n",
       " 'split',\n",
       " 'splitlines',\n",
       " 'startswith',\n",
       " 'strip',\n",
       " 'swapcase',\n",
       " 'title',\n",
       " 'translate',\n",
       " 'upper',\n",
       " 'zfill']"
      ]
     },
     "execution_count": 71,
     "metadata": {},
     "output_type": "execute_result"
    }
   ],
   "source": [
    "dir(str)"
   ]
  },
  {
   "cell_type": "code",
   "execution_count": 73,
   "metadata": {},
   "outputs": [],
   "source": [
    "?str.__add__"
   ]
  },
  {
   "cell_type": "code",
   "execution_count": 8,
   "metadata": {},
   "outputs": [
    {
     "name": "stdout",
     "output_type": "stream",
     "text": [
      "Only The First Character Will Be Converted Into Capital Letter\n"
     ]
    }
   ],
   "source": [
    "st = 'only the first character will be converted into capital letter'\n",
    "ls_w = st.split()\n",
    "ls_w_u = [i.capitalize() for i in ls_w]\n",
    "c_s = \" \".join(ls_w_u)\n",
    "print(c_s)"
   ]
  },
  {
   "cell_type": "code",
   "execution_count": 62,
   "metadata": {},
   "outputs": [
    {
     "data": {
      "text/plain": [
       "'Hello world'"
      ]
     },
     "execution_count": 62,
     "metadata": {},
     "output_type": "execute_result"
    }
   ],
   "source": [
    "str.capitalize(\"hello WORLD\")"
   ]
  },
  {
   "cell_type": "code",
   "execution_count": 66,
   "metadata": {},
   "outputs": [
    {
     "name": "stdout",
     "output_type": "stream",
     "text": [
      "HELLO WORLD\n",
      "hello world\n",
      "the original string is unchanged : hello world\n"
     ]
    }
   ],
   "source": [
    "# upper case and lower case\n",
    "st='hello world'\n",
    "st2 = 'HELLO WORLD'\n",
    "st1 = st.upper()\n",
    "st3= st2.lower()\n",
    "\n",
    "print(st1)\n",
    "print(st3)\n",
    "print (\"the original string is unchanged :\",st)    # strings are immutable\n"
   ]
  },
  {
   "cell_type": "code",
   "execution_count": null,
   "metadata": {},
   "outputs": [],
   "source": [
    "# find() function displays index position"
   ]
  }
 ],
 "metadata": {
  "kernelspec": {
   "display_name": "Python 3",
   "language": "python",
   "name": "python3"
  },
  "language_info": {
   "codemirror_mode": {
    "name": "ipython",
    "version": 3
   },
   "file_extension": ".py",
   "mimetype": "text/x-python",
   "name": "python",
   "nbconvert_exporter": "python",
   "pygments_lexer": "ipython3",
   "version": "3.8.3"
  }
 },
 "nbformat": 4,
 "nbformat_minor": 4
}
