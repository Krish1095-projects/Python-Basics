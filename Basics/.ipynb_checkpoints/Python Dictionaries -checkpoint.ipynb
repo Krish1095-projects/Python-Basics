{
 "cells": [
  {
   "cell_type": "markdown",
   "metadata": {},
   "source": [
    "## Dictionaries in python"
   ]
  },
  {
   "cell_type": "code",
   "execution_count": 2,
   "metadata": {},
   "outputs": [],
   "source": [
    "# key and values are in pair\n",
    "# Dictionaries are mutable (changable)\n",
    "# values can be of any data type  (changable)\n",
    "# but the keys are immutable (unchangable)\n",
    "\n",
    "# a()= tuples\n",
    "# f[] = list\n",
    "# d{} = dictionary\n",
    "\n",
    "# d={'banana'='fruit','carrot'='veg'}\n",
    "\n",
    "#Eg: Mango --> key (immutable)\n",
    "#    Fruit --> values (mutable)"
   ]
  },
  {
   "cell_type": "code",
   "execution_count": 3,
   "metadata": {},
   "outputs": [],
   "source": [
    "# Read Hashing techniques"
   ]
  },
  {
   "cell_type": "code",
   "execution_count": 2,
   "metadata": {},
   "outputs": [
    {
     "name": "stdout",
     "output_type": "stream",
     "text": [
      "<class 'dict'>\n"
     ]
    }
   ],
   "source": [
    "# Create a empty dictionary\n",
    "\n",
    "d = {}\n",
    "d = dict()\n",
    "print(type(d))"
   ]
  },
  {
   "cell_type": "code",
   "execution_count": 3,
   "metadata": {},
   "outputs": [
    {
     "name": "stdout",
     "output_type": "stream",
     "text": [
      "{'mango': 'fruit', 'carrot': 'veg', 'icecream': 'food'}\n"
     ]
    }
   ],
   "source": [
    "# create empty dictionary and then add items to it\n",
    "\n",
    "d= {}\n",
    "d['mango']='fruit'\n",
    "d['carrot']='veg'\n",
    "d['icecream']='food'\n",
    "print(d)"
   ]
  },
  {
   "cell_type": "code",
   "execution_count": 4,
   "metadata": {},
   "outputs": [
    {
     "name": "stdout",
     "output_type": "stream",
     "text": [
      "{'mango': 'fruit', 'carrot': 'vegetable', 'icecream': 'food'}\n",
      "{'mango': 'fruit', 'carrot': 'vegetable', 'icecream': ('Sucess', 12)}\n"
     ]
    }
   ],
   "source": [
    "# changing only values of dictionary\n",
    "\n",
    "d['carrot']='vegetable'\n",
    "print(d)\n",
    "d['icecream']=('Sucess',12)   # values can be of any data type too and can be changed, but not the key ('icecream')\n",
    "print(d)"
   ]
  },
  {
   "cell_type": "code",
   "execution_count": 21,
   "metadata": {},
   "outputs": [
    {
     "name": "stdout",
     "output_type": "stream",
     "text": [
      "{'fruit': 'mango', 'veg': 'dosai'}\n"
     ]
    }
   ],
   "source": [
    "# key should be unique in dictionary. \n",
    "# otherwise, it will overwrite\n",
    "\n",
    "d= {}\n",
    "d['fruit']='grapes'\n",
    "d['fruit']='mango'\n",
    "d['veg']='dosai'\n",
    "print(d)"
   ]
  },
  {
   "cell_type": "code",
   "execution_count": 34,
   "metadata": {},
   "outputs": [
    {
     "name": "stdout",
     "output_type": "stream",
     "text": [
      "{'tom': 1234, 'kris': 1235}\n",
      "updated telephone directory {'tom': 1234, 'kris': 1235, 'kumar': 1236}\n",
      "telephone number of specified person 1236\n"
     ]
    }
   ],
   "source": [
    "# Create a dictionay with some values and then update it with extra values\n",
    "# Dictionary is mutable\n",
    "\n",
    "tel_dir = {'tom':1234,'kris':1235}\n",
    "print(tel_dir)\n",
    "tel_dir['kumar']=1236    # to individually add dictionary elements, use this syntax\n",
    "print('updated telephone directory',tel_dir)\n",
    "print('telephone number of specified person',tel_dir['kumar'])\n"
   ]
  },
  {
   "cell_type": "code",
   "execution_count": 40,
   "metadata": {},
   "outputs": [
    {
     "data": {
      "text/plain": [
       "True"
      ]
     },
     "execution_count": 40,
     "metadata": {},
     "output_type": "execute_result"
    }
   ],
   "source": [
    "# Checking wether a key is present in the dictionary\n",
    "\n",
    "tel_dir = {'tom':1234,'kris':1235, 'kumar':1236}\n",
    "'kris' in tel_dir"
   ]
  },
  {
   "cell_type": "code",
   "execution_count": 41,
   "metadata": {},
   "outputs": [
    {
     "data": {
      "text/plain": [
       "['tom', 'kris', 'kumar']"
      ]
     },
     "execution_count": 41,
     "metadata": {},
     "output_type": "execute_result"
    }
   ],
   "source": [
    "# converting dictionary keys into list\n",
    "\n",
    "tel_dir = {'tom':1234,'kris':1235, 'kumar':1236}\n",
    "ls_k = list(tel_dir.keys())\n",
    "ls_k"
   ]
  },
  {
   "cell_type": "code",
   "execution_count": 48,
   "metadata": {},
   "outputs": [
    {
     "data": {
      "text/plain": [
       "[1234, 1235, 1236]"
      ]
     },
     "execution_count": 48,
     "metadata": {},
     "output_type": "execute_result"
    }
   ],
   "source": [
    "# to show all the values present in dictionary \n",
    "# and changing them into list\n",
    "\n",
    "tel_dir.values()\n",
    "ls_v = list(tel_dir.values())\n",
    "ls_v\n"
   ]
  },
  {
   "cell_type": "markdown",
   "metadata": {},
   "source": [
    "### Get() function ( very important\n",
    "#### Implicit operation of students.get() function\n",
    "#### if 'jerry' in students.keys():\n",
    "####        print(students['jerry'])\n",
    "#### else:\n",
    "####  print('not found')\n"
   ]
  },
  {
   "cell_type": "code",
   "execution_count": 4,
   "metadata": {},
   "outputs": [
    {
     "name": "stdout",
     "output_type": "stream",
     "text": [
      "24\n",
      "25\n"
     ]
    }
   ],
   "source": [
    "# Get() function\n",
    "\n",
    "students = {'kris':24,'kumar':25,'karthi':21}\n",
    "print(students.get('kris','found')) # as 'kris' is there in the dictionary respective key's values will be returned\n",
    "print(students.get('kumar','not found'))"
   ]
  },
  {
   "cell_type": "code",
   "execution_count": 15,
   "metadata": {},
   "outputs": [
    {
     "name": "stdout",
     "output_type": "stream",
     "text": [
      "enter string: kkrishna\n",
      "{'k': 2, 'r': 1, 'i': 1, 's': 1, 'h': 1, 'n': 1, 'a': 1}\n"
     ]
    }
   ],
   "source": [
    "# write a program to read a string.\n",
    "# count number of occurrences of each character in the string.\n",
    "# use dictionary.\n",
    "# Example : input string is 'hello'\n",
    "# output : {'h':1,'e':1,'l':1,'o':1}\n",
    "\n",
    "#program\n",
    "\n",
    "s =input('enter string: ')\n",
    "d= {}\n",
    "for char in s:\n",
    "\n",
    "    d[char]=d.get(char,0)+1\n",
    "print(d)"
   ]
  },
  {
   "cell_type": "code",
   "execution_count": 2,
   "metadata": {},
   "outputs": [
    {
     "name": "stdout",
     "output_type": "stream",
     "text": [
      "enter number: 2\n",
      "enter a string: 10.128.2.1\n",
      "enter a string: 10.128.2.1\n",
      "{0: 1, 1: 1}\n"
     ]
    }
   ],
   "source": [
    "# Practice\n",
    "d= {}\n",
    "n = int(input('enter number: '))\n",
    "for i in range (n):\n",
    "    s = str(input('enter a string: '))\n",
    "    d[i] = d.get(s,0)+1\n",
    "print(d)"
   ]
  },
  {
   "cell_type": "code",
   "execution_count": 32,
   "metadata": {},
   "outputs": [
    {
     "data": {
      "text/plain": [
       "dict_items([('tom', 1234), ('kris', 1235), ('kumar', 1236)])"
      ]
     },
     "execution_count": 32,
     "metadata": {},
     "output_type": "execute_result"
    }
   ],
   "source": [
    "# Using items() on dictionaries \n",
    "# returns keys and values in tuple format\n",
    "\n",
    "tel_dir = {'tom':1234,'kris':1235, 'kumar':1236}\n",
    "tel_dir.items()"
   ]
  },
  {
   "cell_type": "code",
   "execution_count": 33,
   "metadata": {},
   "outputs": [
    {
     "data": {
      "text/plain": [
       "[('tom', 1234), ('kris', 1235), ('kumar', 1236)]"
      ]
     },
     "execution_count": 33,
     "metadata": {},
     "output_type": "execute_result"
    }
   ],
   "source": [
    "ls = list(tel_dir.items())\n",
    "ls"
   ]
  },
  {
   "cell_type": "code",
   "execution_count": 34,
   "metadata": {},
   "outputs": [
    {
     "name": "stdout",
     "output_type": "stream",
     "text": [
      "key is:  tom value is:  1234\n",
      "key is:  kris value is:  1235\n",
      "key is:  kumar value is:  1236\n"
     ]
    }
   ],
   "source": [
    "for k,v in tel_dir.items():        # to print  keys , values\n",
    "    print('key is: ',k,'value is: ',v)"
   ]
  },
  {
   "cell_type": "code",
   "execution_count": 47,
   "metadata": {},
   "outputs": [
    {
     "name": "stdout",
     "output_type": "stream",
     "text": [
      "key is:  tom value is:  1234\n",
      "key is:  kris value is:  1235\n",
      "key is:  kumar value is:  1236\n",
      "{'tom': 1234, 'kris': 1235, 'kumar': 1236}\n"
     ]
    }
   ],
   "source": [
    "# using dict() function\n",
    "di = dict(tel_dir)\n",
    "for i ,j in di.items():\n",
    "    print('key is: ',i,'value is: ',j)\n",
    "    \n",
    "# using copy function\n",
    "c=tel_dir.copy()\n",
    "print(c)"
   ]
  },
  {
   "cell_type": "code",
   "execution_count": 14,
   "metadata": {},
   "outputs": [
    {
     "name": "stdout",
     "output_type": "stream",
     "text": [
      "hi krishna how are you\n",
      "['hi', 'krishna', 'how', 'are', 'you']\n",
      "['krishna', 'how', 'are', 'you', 'hi']\n"
     ]
    }
   ],
   "source": [
    "# Read a sentence.\n",
    "# count the length of each word in that sentence.\n",
    "# display all the words in the descending order of their length in the form of list.\n",
    "\n",
    "# input : hello how are you?\n",
    "# output : ['hello' ,'you?','are', 'how']\n",
    "\n",
    "x =[]\n",
    "x1= []\n",
    "p = str(input())\n",
    "x = p.split(' ')\n",
    "print(x)\n",
    "x.sort(key =len,reverse=True)\n",
    "print(x)"
   ]
  },
  {
   "cell_type": "code",
   "execution_count": 6,
   "metadata": {},
   "outputs": [
    {
     "name": "stdout",
     "output_type": "stream",
     "text": [
      "3\n",
      "5\n",
      "3\n",
      "2\n",
      "2\n"
     ]
    }
   ],
   "source": [
    "n = int(input())\n",
    "for i in range (n):\n",
    "    m= input()\n",
    "p = max(m)\n",
    "print(p)"
   ]
  },
  {
   "cell_type": "code",
   "execution_count": 11,
   "metadata": {},
   "outputs": [
    {
     "name": "stdout",
     "output_type": "stream",
     "text": [
      "1\n"
     ]
    },
    {
     "ename": "TypeError",
     "evalue": "'int' object does not support item assignment",
     "output_type": "error",
     "traceback": [
      "\u001b[1;31m---------------------------------------------------------------------------\u001b[0m",
      "\u001b[1;31mTypeError\u001b[0m                                 Traceback (most recent call last)",
      "\u001b[1;32m<ipython-input-11-275038ce635c>\u001b[0m in \u001b[0;36m<module>\u001b[1;34m\u001b[0m\n\u001b[0;32m      1\u001b[0m \u001b[1;32mfor\u001b[0m \u001b[0me\u001b[0m \u001b[1;32min\u001b[0m \u001b[0mrange\u001b[0m\u001b[1;33m(\u001b[0m\u001b[1;36m5\u001b[0m\u001b[1;33m)\u001b[0m\u001b[1;33m:\u001b[0m\u001b[1;33m\u001b[0m\u001b[1;33m\u001b[0m\u001b[0m\n\u001b[1;32m----> 2\u001b[1;33m     \u001b[0mi\u001b[0m\u001b[1;33m[\u001b[0m\u001b[0me\u001b[0m\u001b[1;33m]\u001b[0m \u001b[1;33m=\u001b[0m \u001b[0mint\u001b[0m\u001b[1;33m(\u001b[0m\u001b[0minput\u001b[0m\u001b[1;33m(\u001b[0m\u001b[1;33m)\u001b[0m\u001b[1;33m)\u001b[0m\u001b[1;33m\u001b[0m\u001b[1;33m\u001b[0m\u001b[0m\n\u001b[0m\u001b[0;32m      3\u001b[0m     \u001b[0mprint\u001b[0m\u001b[1;33m(\u001b[0m\u001b[0mmax\u001b[0m\u001b[1;33m(\u001b[0m\u001b[0mi\u001b[0m\u001b[1;33m[\u001b[0m\u001b[0me\u001b[0m\u001b[1;33m]\u001b[0m\u001b[1;33m)\u001b[0m\u001b[1;33m)\u001b[0m\u001b[1;33m\u001b[0m\u001b[1;33m\u001b[0m\u001b[0m\n",
      "\u001b[1;31mTypeError\u001b[0m: 'int' object does not support item assignment"
     ]
    }
   ],
   "source": [
    "for e in range(5):\n",
    "    i[e] = int(input())\n",
    "    print(max(i[e]))"
   ]
  },
  {
   "cell_type": "code",
   "execution_count": 12,
   "metadata": {},
   "outputs": [
    {
     "name": "stdout",
     "output_type": "stream",
     "text": [
      "14\n"
     ]
    }
   ],
   "source": [
    "i = 12,12, 13, 14\n",
    "print(max(i))"
   ]
  },
  {
   "cell_type": "code",
   "execution_count": 4,
   "metadata": {},
   "outputs": [
    {
     "name": "stdout",
     "output_type": "stream",
     "text": [
      "5\n",
      "4\n"
     ]
    }
   ],
   "source": [
    "n = int(input())\n",
    "ls=list()\n",
    "for i in range (n):\n",
    "    ls.append(i)\n",
    "print(max(ls))\n"
   ]
  },
  {
   "cell_type": "code",
   "execution_count": 17,
   "metadata": {},
   "outputs": [],
   "source": [
    "import re\n",
    "try:\n",
    "    path = 'C:/Users/Administrator/Desktop/python/Python/Assignment2'\n",
    "    main_file = open(path+'/weblog.txt','r')\n",
    "    weblog=[]\n",
    "    for line in main_file:\n",
    "        weblog.append((re.split('[\\s\\t\\n]+',line.replace('[',''))))\n",
    "except:\n",
    "    print('File open error')\n",
    "# cleaning file further\n",
    "weblog_waste = []\n",
    "weblog_clean = []\n",
    "for i in weblog:\n",
    "    if len(i) !=7:\n",
    "        weblog_waste.append(i)\n",
    "    if len(i) ==7:\n",
    "        weblog_clean.append(i)"
   ]
  },
  {
   "cell_type": "code",
   "execution_count": 19,
   "metadata": {},
   "outputs": [
    {
     "data": {
      "text/plain": [
       "[['chmod:', 'cannot', \"'a.out':\", 'No', ''],\n",
       " ['chmod:', 'cannot', \"'error.txt':\", 'No', ''],\n",
       " ['rm:', 'cannot', \"'*.o':\", 'No', ''],\n",
       " ['rm:', 'cannot', \"'a.out':\", 'No', ''],\n",
       " ['chmod:', 'cannot', \"'error.txt':\", 'No', ''],\n",
       " ['timeout:', 'the', 'command', 'dumped', ''],\n",
       " ['sh:', 'line', '451', 'Segmentation', ''],\n",
       " ['rm:', 'cannot', \"'*.o':\", 'No', ''],\n",
       " ['chmod:', 'cannot', \"'a.out':\", 'No', ''],\n",
       " ['chmod:', 'cannot', \"'error.txt':\", 'No', ''],\n",
       " ['rm:', 'cannot', \"'*.o':\", 'No', ''],\n",
       " ['chmod:', 'cannot', \"'error.txt':\", 'No', ''],\n",
       " ['chmod:', 'cannot', \"'error.txt':\", 'No', ''],\n",
       " ['chmod:', 'cannot', \"'error.txt':\", 'No', ''],\n",
       " ['rm:', 'cannot', \"'*.o':\", 'No', ''],\n",
       " ['chmod:', 'cannot', \"'error.txt':\", 'No', ''],\n",
       " ['chmod:', 'cannot', \"'a.out':\", 'No', ''],\n",
       " ['rm:', 'cannot', \"'*.o':\", 'No', ''],\n",
       " ['rm:', 'cannot', \"'a.out':\", 'No', ''],\n",
       " ['chmod:', 'cannot', \"'error.txt':\", 'No', ''],\n",
       " ['rm:', 'cannot', \"'*.o':\", 'No', ''],\n",
       " ['chmod:', 'cannot', \"'error.txt':\", 'No', ''],\n",
       " ['a.out:', 'main.cpp:51:', 'main():', 'Assertion', ''],\n",
       " ['timeout:', 'the', 'command', 'dumped', ''],\n",
       " ['sh:', 'line', '848', 'Aborted', ''],\n",
       " ['rm:', 'cannot', \"'*.o':\", 'No', ''],\n",
       " ['chmod:', 'cannot', \"'error.txt':\", 'No', ''],\n",
       " ['rm:', 'cannot', \"'*.o':\", 'No', ''],\n",
       " ['chmod:', 'cannot', \"'error.txt':\", 'No', ''],\n",
       " ['rm:', 'cannot', \"'*.o':\", 'No', ''],\n",
       " ['chmod:', 'cannot', \"'a.out':\", 'No', ''],\n",
       " ['chmod:', 'cannot', \"'error.txt':\", 'No', ''],\n",
       " ['rm:', 'cannot', \"'*.o':\", 'No', ''],\n",
       " ['rm:', 'cannot', \"'a.out':\", 'No', ''],\n",
       " ['chmod:', 'cannot', \"'error.txt':\", 'No', ''],\n",
       " ['rm:', 'cannot', \"'*.o':\", 'No', ''],\n",
       " ['chmod:', 'cannot', \"'error.txt':\", 'No', ''],\n",
       " ['rm:', 'cannot', \"'*.o':\", 'No', ''],\n",
       " ['chmod:', 'cannot', \"'error.txt':\", 'No', ''],\n",
       " ['rm:', 'cannot', \"'*.o':\", 'No', ''],\n",
       " ['chmod:', 'cannot', \"'error.txt':\", 'No', ''],\n",
       " ['rm:', 'cannot', \"'*.o':\", 'No', ''],\n",
       " ['chmod:', 'cannot', \"'error.txt':\", 'No', ''],\n",
       " ['rm:', 'cannot', \"'*.o':\", 'No', ''],\n",
       " ['chmod:', 'cannot', \"'error.txt':\", 'No', ''],\n",
       " ['rm:', 'cannot', \"'*.o':\", 'No', ''],\n",
       " ['chmod:', 'cannot', \"'error.txt':\", 'No', ''],\n",
       " ['rm:', 'cannot', \"'*.o':\", 'No', ''],\n",
       " ['chmod:', 'cannot', \"'error.txt':\", 'No', ''],\n",
       " ['rm:', 'cannot', \"'*.o':\", 'No', ''],\n",
       " ['chmod:', 'cannot', \"'error.txt':\", 'No', ''],\n",
       " ['rm:', 'cannot', \"'*.o':\", 'No', ''],\n",
       " ['chmod:', 'cannot', \"'error.txt':\", 'No', ''],\n",
       " ['rm:', 'cannot', \"'*.o':\", 'No', ''],\n",
       " ['chmod:', 'cannot', \"'error.txt':\", 'No', ''],\n",
       " ['rm:', 'cannot', \"'*.o':\", 'No', ''],\n",
       " ['chmod:', 'cannot', \"'error.txt':\", 'No', ''],\n",
       " ['rm:', 'cannot', \"'*.o':\", 'No', ''],\n",
       " ['chmod:', 'cannot', \"'error.txt':\", 'No', ''],\n",
       " ['rm:', 'cannot', \"'*.o':\", 'No', ''],\n",
       " ['chmod:', 'cannot', \"'error.txt':\", 'No', ''],\n",
       " ['a.out:', 'main.cpp:51:', 'main():', 'Assertion', ''],\n",
       " ['timeout:', 'the', 'command', 'dumped', ''],\n",
       " ['sh:', 'line', '1192', 'Aborted', ''],\n",
       " ['rm:', 'cannot', \"'*.o':\", 'No', ''],\n",
       " ['chmod:', 'cannot', \"'error.txt':\", 'No', ''],\n",
       " ['rm:', 'cannot', \"'*.o':\", 'No', ''],\n",
       " ['chmod:', 'cannot', \"'error.txt':\", 'No', ''],\n",
       " ['a.out:', 'main.cpp:51:', 'main():', 'Assertion', ''],\n",
       " ['timeout:', 'the', 'command', 'dumped', ''],\n",
       " ['sh:', 'line', '1226', 'Aborted', ''],\n",
       " ['rm:', 'cannot', \"'*.o':\", 'No', ''],\n",
       " ['chmod:', 'cannot', \"'error.txt':\", 'No', ''],\n",
       " ['a.out:', 'main.cpp:64:', 'main():', 'Assertion', ''],\n",
       " ['timeout:', 'the', 'command', 'dumped', ''],\n",
       " ['sh:', 'line', '1243', 'Aborted', ''],\n",
       " ['rm:', 'cannot', \"'*.o':\", 'No', ''],\n",
       " ['chmod:', 'cannot', \"'error.txt':\", 'No', ''],\n",
       " ['rm:', 'cannot', \"'*.o':\", 'No', ''],\n",
       " ['Tue', 'Dec', '51:47.0', '2017]', ''],\n",
       " ['chmod:', 'cannot', \"'a.out':\", 'No', ''],\n",
       " ['chmod:', 'cannot', \"'error.txt':\", 'No', ''],\n",
       " ['rm:', 'cannot', \"'*.o':\", 'No', ''],\n",
       " ['rm:', 'cannot', \"'a.out':\", 'No', ''],\n",
       " ['chmod:', 'cannot', \"'error.txt':\", 'No', ''],\n",
       " ['rm:', 'cannot', \"'*.o':\", 'No', ''],\n",
       " ['chmod:', 'cannot', \"'error.txt':\", 'No', ''],\n",
       " ['rm:', 'cannot', \"'*.o':\", 'No', ''],\n",
       " ['Wed', 'Dec', '29:09.2', '2017]', ''],\n",
       " ['Wed', 'Dec', '29:09.2', '2017]', ''],\n",
       " ['Wed', 'Dec', '29:09.2', '2017]', ''],\n",
       " ['Wed', 'Dec', '29:09.2', '2017]', ''],\n",
       " ['Wed', 'Dec', '29:09.2', '2017]', ''],\n",
       " ['chmod:', 'cannot', \"'a.out':\", 'No', ''],\n",
       " ['chmod:', 'cannot', \"'error.txt':\", 'No', ''],\n",
       " ['rm:', 'cannot', \"'*.o':\", 'No', ''],\n",
       " ['chmod:', 'cannot', \"'a.out':\", 'No', ''],\n",
       " ['chmod:', 'cannot', \"'error.txt':\", 'No', ''],\n",
       " ['rm:', 'cannot', \"'*.o':\", 'No', ''],\n",
       " ['chmod:', 'cannot', \"'a.out':\", 'No', ''],\n",
       " ['chmod:', 'cannot', \"'error.txt':\", 'No', ''],\n",
       " ['rm:', 'cannot', \"'*.o':\", 'No', ''],\n",
       " ['chmod:', 'cannot', \"'a.out':\", 'No', ''],\n",
       " ['chmod:', 'cannot', \"'error.txt':\", 'No', ''],\n",
       " ['rm:', 'cannot', \"'*.o':\", 'No', ''],\n",
       " ['chmod:', 'cannot', \"'a.out':\", 'No', ''],\n",
       " ['chmod:', 'cannot', \"'error.txt':\", 'No', ''],\n",
       " ['rm:', 'cannot', \"'*.o':\", 'No', ''],\n",
       " ['chmod:', 'cannot', \"'a.out':\", 'No', ''],\n",
       " ['chmod:', 'cannot', \"'error.txt':\", 'No', ''],\n",
       " ['rm:', 'cannot', \"'*.o':\", 'No', ''],\n",
       " ['chmod:', 'cannot', \"'error.txt':\", 'No', ''],\n",
       " ['rm:', 'cannot', \"'*.o':\", 'No', ''],\n",
       " ['chmod:', 'cannot', \"'error.txt':\", 'No', ''],\n",
       " ['rm:', 'cannot', \"'*.o':\", 'No', ''],\n",
       " ['chmod:', 'cannot', \"'error.txt':\", 'No', ''],\n",
       " ['rm:', 'cannot', \"'*.o':\", 'No', ''],\n",
       " ['chmod:', 'cannot', \"'a.out':\", 'No', ''],\n",
       " ['chmod:', 'cannot', \"'error.txt':\", 'No', ''],\n",
       " ['sh:', 'C:WINDOWSSystem32shutdown:', 'not', 'found', ''],\n",
       " ['rm:', 'cannot', \"'*.o':\", 'No', ''],\n",
       " ['chmod:', 'cannot', \"'a.out':\", 'No', ''],\n",
       " ['chmod:', 'cannot', \"'error.txt':\", 'No', ''],\n",
       " ['sh:', 'C:WINDOWSSystem32shutdown:', 'not', 'found', ''],\n",
       " ['rm:', 'cannot', \"'*.o':\", 'No', ''],\n",
       " ['Thu', 'Dec', '44:47.7', '2017]', ''],\n",
       " ['chmod:', 'cannot', \"'a.out':\", 'No', ''],\n",
       " ['chmod:', 'cannot', \"'error.txt':\", 'No', ''],\n",
       " ['rm:', 'cannot', \"'*.o':\", 'No', ''],\n",
       " ['Tue', 'Jan', '00:53.4', '2018]', ''],\n",
       " ['Tue', 'Jan', '02:49.8', '2018]', ''],\n",
       " ['Tue', 'Jan', '02:49.8', '2018]', ''],\n",
       " ['Tue', 'Jan', '02:49.8', '2018]', ''],\n",
       " ['Tue', 'Jan', '02:49.8', '2018]', ''],\n",
       " ['Tue', 'Jan', '02:49.8', '2018]', ''],\n",
       " ['Tue', 'Jan', '12:58.7', '2018]', ''],\n",
       " ['Tue', 'Jan', '12:58.7', '2018]', ''],\n",
       " ['Tue', 'Jan', '12:58.7', '2018]', ''],\n",
       " ['Tue', 'Jan', '12:58.7', '2018]', ''],\n",
       " ['Tue', 'Jan', '12:58.7', '2018]', ''],\n",
       " ['chmod:', 'cannot', \"'a.out':\", 'No', ''],\n",
       " ['chmod:', 'cannot', \"'error.txt':\", 'No', ''],\n",
       " ['rm:', 'cannot', \"'*.o':\", 'No', ''],\n",
       " ['Thu', 'Jan', '48:37.1', '2018]', ''],\n",
       " ['Thu', 'Jan', '48:37.1', '2018]', ''],\n",
       " ['Thu', 'Jan', '48:37.1', '2018]', ''],\n",
       " ['Thu', 'Jan', '48:37.1', '2018]', ''],\n",
       " ['Thu', 'Jan', '48:37.1', '2018]', ''],\n",
       " ['chmod:', 'cannot', \"'error.txt':\", 'No', ''],\n",
       " ['rm:', 'cannot', \"'*.o':\", 'No', ''],\n",
       " ['Fri', 'Feb', '40:28.7', '2018]', ''],\n",
       " ['Sat', 'Feb', '20:28.3', '2018]', ''],\n",
       " ['Mon', 'Feb', '52:06.9', '2018]', ''],\n",
       " ['Mon', 'Feb', '52:06.9', '2018]', ''],\n",
       " ['Mon', 'Feb', '52:06.9', '2018]', ''],\n",
       " ['Mon', 'Feb', '52:06.9', '2018]', ''],\n",
       " ['Mon', 'Feb', '52:06.9', '2018]', ''],\n",
       " ['chmod:', 'cannot', \"'error.txt':\", 'No', ''],\n",
       " ['chmod:', 'cannot', \"'a.out':\", 'No', ''],\n",
       " ['rm:', 'cannot', \"'*.o':\", 'No', ''],\n",
       " ['rm:', 'cannot', \"'a.out':\", 'No', ''],\n",
       " ['Tue', 'Feb', '24:12.8', '2018]', ''],\n",
       " ['Tue', 'Feb', '24:12.8', '2018]', ''],\n",
       " ['Tue', 'Feb', '24:12.8', '2018]', ''],\n",
       " ['Tue', 'Feb', '24:12.8', '2018]', ''],\n",
       " ['Tue', 'Feb', '24:12.8', '2018]', ''],\n",
       " ['chmod:', 'cannot', \"'a.out':\", 'No', ''],\n",
       " ['chmod:', 'cannot', \"'error.txt':\", 'No', ''],\n",
       " ['rm:', 'cannot', \"'*.o':\", 'No', ''],\n",
       " ['rm:', 'cannot', \"'a.out':\", 'No', ''],\n",
       " ['chmod:', 'cannot', \"'error.txt':\", 'No', ''],\n",
       " ['rm:', 'cannot', \"'*.o':\", 'No', ''],\n",
       " ['chmod:', 'cannot', \"'a.out':\", 'No', ''],\n",
       " ['chmod:', 'cannot', \"'error.txt':\", 'No', ''],\n",
       " ['rm:', 'cannot', \"'*.o':\", 'No', ''],\n",
       " ['chmod:', 'cannot', \"'a.out':\", 'No', ''],\n",
       " ['chmod:', 'cannot', \"'error.txt':\", 'No', ''],\n",
       " ['rm:', 'cannot', \"'*.o':\", 'No', ''],\n",
       " ['chmod:', 'cannot', \"'a.out':\", 'No', ''],\n",
       " ['chmod:', 'cannot', \"'error.txt':\", 'No', ''],\n",
       " ['rm:', 'cannot', \"'*.o':\", 'No', ''],\n",
       " ['chmod:', 'cannot', \"'a.out':\", 'No', ''],\n",
       " ['chmod:', 'cannot', \"'error.txt':\", 'No', ''],\n",
       " ['rm:', 'cannot', \"'*.o':\", 'No', ''],\n",
       " ['chmod:', 'cannot', \"'a.out':\", 'No', ''],\n",
       " ['chmod:', 'cannot', \"'error.txt':\", 'No', ''],\n",
       " ['rm:', 'cannot', \"'*.o':\", 'No', ''],\n",
       " ['chmod:', 'cannot', \"'a.out':\", 'No', ''],\n",
       " ['chmod:', 'cannot', \"'error.txt':\", 'No', ''],\n",
       " ['rm:', 'cannot', \"'*.o':\", 'No', ''],\n",
       " ['chmod:', 'cannot', \"'a.out':\", 'No', ''],\n",
       " ['chmod:', 'cannot', \"'error.txt':\", 'No', ''],\n",
       " ['rm:', 'cannot', \"'*.o':\", 'No', ''],\n",
       " ['rm:', 'cannot', \"'a.out':\", 'No', ''],\n",
       " ['chmod:', 'cannot', \"'a.out':\", 'No', ''],\n",
       " ['chmod:', 'cannot', \"'error.txt':\", 'No', ''],\n",
       " ['rm:', 'cannot', \"'*.o':\", 'No', ''],\n",
       " ['rm:', 'cannot', \"'a.out':\", 'No', ''],\n",
       " ['chmod:', 'cannot', \"'a.out':\", 'No', ''],\n",
       " ['chmod:', 'cannot', \"'error.txt':\", 'No', ''],\n",
       " ['rm:', 'cannot', \"'*.o':\", 'No', ''],\n",
       " ['rm:', 'cannot', \"'a.out':\", 'No', ''],\n",
       " ['chmod:', 'cannot', \"'a.out':\", 'No', ''],\n",
       " ['chmod:', 'cannot', \"'error.txt':\", 'No', ''],\n",
       " ['rm:', 'cannot', \"'*.o':\", 'No', ''],\n",
       " ['chmod:', 'cannot', \"'a.out':\", 'No', ''],\n",
       " ['chmod:', 'cannot', \"'error.txt':\", 'No', ''],\n",
       " ['rm:', 'cannot', \"'*.o':\", 'No', ''],\n",
       " ['chmod:', 'cannot', \"'a.out':\", 'No', ''],\n",
       " ['chmod:', 'cannot', \"'error.txt':\", 'No', ''],\n",
       " ['rm:', 'cannot', \"'*.o':\", 'No', ''],\n",
       " ['chmod:', 'cannot', \"'a.out':\", 'No', ''],\n",
       " ['chmod:', 'cannot', \"'error.txt':\", 'No', ''],\n",
       " ['rm:', 'cannot', \"'*.o':\", 'No', ''],\n",
       " ['rm:', 'cannot', \"'a.out':\", 'No', ''],\n",
       " ['chmod:', 'cannot', \"'a.out':\", 'No', ''],\n",
       " ['chmod:', 'cannot', \"'error.txt':\", 'No', ''],\n",
       " ['rm:', 'cannot', \"'*.o':\", 'No', '']]"
      ]
     },
     "execution_count": 19,
     "metadata": {},
     "output_type": "execute_result"
    }
   ],
   "source": []
  },
  {
   "cell_type": "code",
   "execution_count": null,
   "metadata": {},
   "outputs": [],
   "source": []
  }
 ],
 "metadata": {
  "kernelspec": {
   "display_name": "Python 3",
   "language": "python",
   "name": "python3"
  },
  "language_info": {
   "codemirror_mode": {
    "name": "ipython",
    "version": 3
   },
   "file_extension": ".py",
   "mimetype": "text/x-python",
   "name": "python",
   "nbconvert_exporter": "python",
   "pygments_lexer": "ipython3",
   "version": "3.7.3"
  }
 },
 "nbformat": 4,
 "nbformat_minor": 2
}
